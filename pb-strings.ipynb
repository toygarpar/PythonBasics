{
 "cells": [
  {
   "cell_type": "markdown",
   "metadata": {},
   "source": [
    "# Strings\n",
    "\n",
    "String are sequences of characters, collection of text which are one of the fundamental data type denoted with the speacial abbreviated name as str. Data type refers to what kind of data a value represents.\n",
    "\n",
    "strings contain characters, which are individual letters or symbols, have a length, appear ina sequence where each char has a numbered position in string.\n",
    "\n",
    "strings can be created by double or single quotes\n",
    "\n",
    "a string literal is a string by surrounded text with delimiter quotation marks, indicating  that the string is literally written out in your code\n",
    "\n",
    "delimeter are the quotes surrounding a string. first delimiter used should be the same kind to end the string unless you want a syntax error message. "
   ]
  },
  {
   "cell_type": "code",
   "execution_count": 6,
   "metadata": {},
   "outputs": [],
   "source": [
    "stringy_thingy = \"I am type str, sequence of chars\""
   ]
  },
  {
   "cell_type": "code",
   "execution_count": 7,
   "metadata": {},
   "outputs": [
    {
     "data": {
      "text/plain": [
       "str"
      ]
     },
     "execution_count": 7,
     "metadata": {},
     "output_type": "execute_result"
    }
   ],
   "source": [
    "type(stringy_thingy)  # an instance of the str data type, belongs to class str"
   ]
  },
  {
   "cell_type": "markdown",
   "metadata": {},
   "source": [
    "len function   \\- the number of characters contained in a string, which is a sequence, including spaces, is called the length of the string."
   ]
  },
  {
   "cell_type": "code",
   "execution_count": 8,
   "metadata": {},
   "outputs": [
    {
     "data": {
      "text/plain": [
       "32"
      ]
     },
     "execution_count": 8,
     "metadata": {},
     "output_type": "execute_result"
    }
   ],
   "source": [
    "len(stringy_thingy)"
   ]
  },
  {
   "cell_type": "code",
   "execution_count": 9,
   "metadata": {},
   "outputs": [
    {
     "data": {
      "text/plain": [
       "32"
      ]
     },
     "execution_count": 9,
     "metadata": {},
     "output_type": "execute_result"
    }
   ],
   "source": [
    "len(\"I am type str, sequence of chars\")"
   ]
  },
  {
   "cell_type": "markdown",
   "metadata": {},
   "source": [
    "### multiline strings\n",
    "\n",
    "\n",
    "Multiline strings can be created using triple quotes as delimiters (\"\"\" or ''')\n",
    "\n",
    "Triple-quoted strings preserve whitespace.\n",
    "\n",
    "Triple-quoted strings are generally used to document code. When used to document code, triple-quoted strings are called ```docstrings.```"
   ]
  },
  {
   "cell_type": "code",
   "execution_count": 12,
   "metadata": {},
   "outputs": [],
   "source": [
    "mstr = \"\"\"Lorem ipsum is placeholder text commonly used \n",
    "in the graphic, print, and publishing industries for \n",
    "previewing layouts and visual mockups.\"\"\""
   ]
  },
  {
   "cell_type": "code",
   "execution_count": null,
   "metadata": {},
   "outputs": [],
   "source": []
  }
 ],
 "metadata": {
  "kernelspec": {
   "display_name": "base",
   "language": "python",
   "name": "python3"
  },
  "language_info": {
   "codemirror_mode": {
    "name": "ipython",
    "version": 3
   },
   "file_extension": ".py",
   "mimetype": "text/x-python",
   "name": "python",
   "nbconvert_exporter": "python",
   "pygments_lexer": "ipython3",
   "version": "3.11.7"
  }
 },
 "nbformat": 4,
 "nbformat_minor": 2
}
