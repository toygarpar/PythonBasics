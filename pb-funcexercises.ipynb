{
 "cells": [
  {
   "cell_type": "markdown",
   "metadata": {},
   "source": [
    "# Functions\n",
    "\n",
    "\n",
    "when calling a function, a pair of parentheses must be attached to the name of the function, even if there is no argument to pass. \n",
    "\n"
   ]
  },
  {
   "cell_type": "markdown",
   "metadata": {},
   "source": [
    "sum built-in function\n"
   ]
  },
  {
   "cell_type": "code",
   "execution_count": 1,
   "metadata": {},
   "outputs": [
    {
     "data": {
      "text/plain": [
       "447"
      ]
     },
     "execution_count": 1,
     "metadata": {},
     "output_type": "execute_result"
    }
   ],
   "source": [
    "sum([12, 38, 69, 66, 77, 98 , 87])"
   ]
  },
  {
   "cell_type": "markdown",
   "metadata": {},
   "source": [
    "to use functions defined in a standard or third- party module, import the module before and call the function by using the dot notation\n"
   ]
  },
  {
   "cell_type": "code",
   "execution_count": 3,
   "metadata": {},
   "outputs": [
    {
     "data": {
      "text/plain": [
       "5.0"
      ]
     },
     "execution_count": 3,
     "metadata": {},
     "output_type": "execute_result"
    }
   ],
   "source": [
    "import math\n",
    "\n",
    "math.sqrt(25)"
   ]
  },
  {
   "cell_type": "markdown",
   "metadata": {},
   "source": [
    "To define a function in Python, the def compound statement is used.\n",
    "\n",
    "def <function name>(parameters):\n",
    "    <code block - body>\n",
    "\n",
    "``<function name>`` - a identifier in the local scope, namescape could be in global or be encompassed by another function.\n",
    "\n",
    "``parameters`` - variable names that can be used to pass values/arguments to the function\n",
    "\n",
    "``<code block>`` - function body, the real program code that does the computing or information processing and always\n",
    "return a value with the return statement. Even if you do not have anything to return from a function definition. \n",
    "When there is no return statemnt, None value will be returned.\n",
    "\n",
    "\n",
    "\n"
   ]
  },
  {
   "cell_type": "code",
   "execution_count": 16,
   "metadata": {},
   "outputs": [],
   "source": [
    "def faktoryel(n):\n",
    "\n",
    "    \"\"\"Calculates and returns n!\"\"\"\n",
    "    if (not isinstance(n, int)) or (n < 1):\n",
    "        return None\n",
    "    else:\n",
    "        r = 1\n",
    "        for i in range(n):\n",
    "            r  *= ( i + 1 )\n",
    "    return r"
   ]
  },
  {
   "cell_type": "code",
   "execution_count": 17,
   "metadata": {},
   "outputs": [
    {
     "name": "stdout",
     "output_type": "stream",
     "text": [
      "the factorial of 9 is 362880\n"
     ]
    }
   ],
   "source": [
    "num = 9\n",
    "fonk = faktoryel(num)\n",
    "print(f\"the factorial of {num} is {fonk}\")"
   ]
  },
  {
   "cell_type": "markdown",
   "metadata": {},
   "source": [
    "Let's analyze the perfect function and the accompanying code step by step. The purpose of this function is to check if a given number \n",
    "n is a perfect number. A perfect number is a positive integer that is equal to the sum of its proper divisors (excluding itself)."
   ]
  },
  {
   "cell_type": "code",
   "execution_count": 2,
   "metadata": {},
   "outputs": [
    {
     "name": "stdout",
     "output_type": "stream",
     "text": [
      "6 = [1, 2, 3]\n",
      "28 = [1, 2, 4, 7, 14]\n",
      "496 = [1, 2, 4, 8, 16, 31, 62, 124, 248]\n",
      "8128 = [1, 2, 4, 8, 16, 32, 64, 127, 254, 508, 1016, 2032, 4064]\n"
     ]
    }
   ],
   "source": [
    "def perfect(n):\n",
    "    factor = [1] # create a list with 1 as the first factor\n",
    "    \n",
    "    for j in range(2, (n // 2) + 1): # only need loop to n // 2 + 1\n",
    "        \"\"\"\n",
    "        This loop iterates through all numbers from 2 to n/2 + 1   We only need to check up to \n",
    "\n",
    "        because a number cannot have any divisors greater than half of itself (other than the number itself, which we exclude).\n",
    "        \"\"\"\n",
    "        if n % j == 0: # if j is a factor\n",
    "            factor.append(j) # add j to the list\n",
    "    \n",
    "    #Check if the Number is Perfect:\n",
    "    if n == sum(factor): # if the sum of the         factors = n\n",
    "        return [True, factor] # return True as well as factors\n",
    "    else:\n",
    "        return [False, []]\n",
    "    \n",
    "    \n",
    "upper_bound = int(input(\"Tell me the upper bound:\"))\n",
    "for i in range(2, upper_bound):\n",
    "    test = perfect(i)\n",
    "    if test[0]:\n",
    "        print(f\"{i} = {test[1]}\")"
   ]
  },
  {
   "cell_type": "code",
   "execution_count": 1,
   "metadata": {},
   "outputs": [
    {
     "name": "stdout",
     "output_type": "stream",
     "text": [
      "6 = [1, 2, 3]\n",
      "28 = [1, 2, 4, 7, 14]\n",
      "496 = [1, 2, 4, 8, 16, 31, 62, 124, 248]\n",
      "8128 = [1, 2, 4, 8, 16, 32, 64, 127, 254, 508, 1016, 2032, 4064]\n"
     ]
    }
   ],
   "source": [
    "def perfect(n):\n",
    "    factor = [1]  # create a list with 1 as the first factor\n",
    "    \n",
    "    for j in range(2, (n // 2) + 1):  # only need to loop up to n // 2 + 1\n",
    "        if n % j == 0:  # if j is a factor\n",
    "            factor.append(j)  # add j to the list\n",
    "    \n",
    "    if n == sum(factor):  # if the sum of the factors equals n\n",
    "        return [True, factor]  # return True as well as factors\n",
    "    else:\n",
    "        return [False, []]\n",
    "\n",
    "try:\n",
    "    upper_bound = int(input(\"Tell me the upper bound: \"))\n",
    "    if upper_bound < 2:\n",
    "        raise ValueError(\"Upper bound should be greater than or equal to 2\")\n",
    "    \n",
    "    for i in range(2, upper_bound):\n",
    "        test = perfect(i)\n",
    "        if test[0]:\n",
    "            print(f\"{i} = {test[1]}\")\n",
    "except ValueError as e:\n",
    "    print(f\"Invalid input: {e}\")\n"
   ]
  },
  {
   "cell_type": "markdown",
   "metadata": {},
   "source": [
    "## Parameters and Arguments in Functions\n",
    "When calling a function, positional arguments are the arguments passed to\n",
    "their respective parameters in accordance with their positions"
   ]
  },
  {
   "cell_type": "code",
   "execution_count": 7,
   "metadata": {},
   "outputs": [],
   "source": [
    "def deneme(a, b, c):\n",
    "    print(f\"a = {a}, b = {b}, c = {c}\")"
   ]
  },
  {
   "cell_type": "code",
   "execution_count": 8,
   "metadata": {},
   "outputs": [
    {
     "name": "stdout",
     "output_type": "stream",
     "text": [
      "a = 1, b = 2, c = 3\n"
     ]
    }
   ],
   "source": [
    "deneme(1,2,3)"
   ]
  },
  {
   "cell_type": "markdown",
   "metadata": {},
   "source": [
    "When calling a function, its parameter name, such as x, can be used as a\n",
    "keyword to explicitly indicate that a specific value will be passed"
   ]
  },
  {
   "cell_type": "code",
   "execution_count": 10,
   "metadata": {},
   "outputs": [
    {
     "name": "stdout",
     "output_type": "stream",
     "text": [
      "a = 2, b = 3, c = 1\n"
     ]
    }
   ],
   "source": [
    "deneme(b =3, a = 2, c = 1)"
   ]
  },
  {
   "cell_type": "markdown",
   "metadata": {},
   "source": [
    "in a function definition, parameters expected to be used as keywords\n",
    "must be placed behind those expecting positional arguments."
   ]
  },
  {
   "cell_type": "code",
   "execution_count": 12,
   "metadata": {},
   "outputs": [
    {
     "ename": "TypeError",
     "evalue": "deneme() got multiple values for argument 'a'",
     "output_type": "error",
     "traceback": [
      "\u001b[1;31m---------------------------------------------------------------------------\u001b[0m",
      "\u001b[1;31mTypeError\u001b[0m                                 Traceback (most recent call last)",
      "Cell \u001b[1;32mIn[12], line 1\u001b[0m\n\u001b[1;32m----> 1\u001b[0m deneme(\u001b[38;5;241m3\u001b[39m, \u001b[38;5;241m1\u001b[39m, a \u001b[38;5;241m=\u001b[39m \u001b[38;5;241m2\u001b[39m)\n",
      "\u001b[1;31mTypeError\u001b[0m: deneme() got multiple values for argument 'a'"
     ]
    }
   ],
   "source": [
    "deneme(3, 1, a = 2)  #def deneme(b, c, a=2) yazarsak definitionda çalışır"
   ]
  },
  {
   "cell_type": "markdown",
   "metadata": {},
   "source": [
    "The code effectively reverses the list liste by inserting each element at the beginning of rliste. Each insertion shifts the existing elements to the right, thus creating the reversed order by the end of the loop. "
   ]
  },
  {
   "cell_type": "code",
   "execution_count": 13,
   "metadata": {},
   "outputs": [
    {
     "name": "stdout",
     "output_type": "stream",
     "text": [
      "[5, 4, 3, 2, 1, 0]\n"
     ]
    },
    {
     "data": {
      "text/plain": [
       "[10, 9, 8, 7, 6]"
      ]
     },
     "execution_count": 13,
     "metadata": {},
     "output_type": "execute_result"
    }
   ],
   "source": [
    "liste = [6,7,8,9,10]\n",
    "mytuple = (0,1,2,3,4,5)\n",
    "def reverseList(*n):\n",
    "    rliste = []\n",
    "    for i in n:\n",
    "        rliste.insert(0,i)\n",
    "    return rliste\n",
    "\n",
    "print(rliste)\n",
    "reverseList(*liste)"
   ]
  },
  {
   "cell_type": "markdown",
   "metadata": {},
   "source": [
    "how to define a function that can take variable- length nonkeyword arguments."
   ]
  },
  {
   "cell_type": "code",
   "execution_count": 36,
   "metadata": {},
   "outputs": [],
   "source": [
    "def sericarpma(*xn):\n",
    "    y = 1\n",
    "    for i in xn:\n",
    "        y = y * i\n",
    "    return (f\"The product of all numbers in {xn} is {y}\")\n",
    "\n"
   ]
  },
  {
   "cell_type": "code",
   "execution_count": 37,
   "metadata": {},
   "outputs": [
    {
     "data": {
      "text/plain": [
       "'The product of all numbers in (1, 2, 3, 4, 5) is 120'"
      ]
     },
     "execution_count": 37,
     "metadata": {},
     "output_type": "execute_result"
    }
   ],
   "source": [
    "sericarpma(1,2,3,4,5)"
   ]
  },
  {
   "cell_type": "code",
   "execution_count": 38,
   "metadata": {},
   "outputs": [],
   "source": [
    "import numpy as np\n",
    "z = np.array([1,2,3,4,5])"
   ]
  },
  {
   "cell_type": "code",
   "execution_count": 39,
   "metadata": {},
   "outputs": [
    {
     "data": {
      "text/plain": [
       "120"
      ]
     },
     "execution_count": 39,
     "metadata": {},
     "output_type": "execute_result"
    }
   ],
   "source": [
    "np.prod(z)  #Return the product of array elements over a given axis."
   ]
  },
  {
   "cell_type": "markdown",
   "metadata": {},
   "source": [
    "Use variable- length keyword arguments.\n",
    "\n",
    "When calling a function with variable- length keyword arguments, the key-\n",
    "words look like parameter names to which the values are passed. "
   ]
  },
  {
   "cell_type": "code",
   "execution_count": 40,
   "metadata": {},
   "outputs": [],
   "source": [
    "def id_info(**kargs):\n",
    "    for k, v in kargs.items():\n",
    "        print(f\"{k} : {v}\")"
   ]
  },
  {
   "cell_type": "code",
   "execution_count": 42,
   "metadata": {},
   "outputs": [
    {
     "name": "stdout",
     "output_type": "stream",
     "text": [
      "name : toygar\n",
      "lastname : par\n",
      "sex : yes, please :)\n"
     ]
    }
   ],
   "source": [
    "id_info(name = \"toygar\", lastname = \"par\", sex = \"yes, please :)\")"
   ]
  },
  {
   "cell_type": "markdown",
   "metadata": {},
   "source": [
    "While variable- length nonkeyword arguments are passed to a function as\n",
    "a tuple, variable- length keyword arguments are passed to the function as a\n",
    "dictionary."
   ]
  },
  {
   "cell_type": "markdown",
   "metadata": {},
   "source": [
    "Here’s a Python program that will take three numbers as input, solve the quadratic equation \n",
    "\n",
    "\n",
    "ax2 +bx + c = 0 using a function quadratic(a, b, c), and return the solutions 𝑥1 and 𝑥2 in a tuple.\n",
    "\n",
    "\n",
    "   x is (−b + sqrt(b2 − 4ac)) / 2a, or (−b − sqrt(b2 − 4ac)) / 2a"
   ]
  },
  {
   "cell_type": "code",
   "execution_count": 56,
   "metadata": {},
   "outputs": [
    {
     "name": "stdout",
     "output_type": "stream",
     "text": [
      "(3.5, 2.5)\n"
     ]
    }
   ],
   "source": [
    "import math\n",
    "\n",
    "def quadratic(a, b, c):\n",
    "\n",
    "    discriminant = b**2 - 4*a*c\n",
    "    \"\"\" \n",
    "    Depending on the value of the discriminant, it determines the nature of the roots:\n",
    "    If the discriminant is less than 0, there are no real roots.\n",
    "    If the discriminant is 0, there is one real root (repeated root).\n",
    "    If the discriminant is greater than 0, there are two distinct real roots.\n",
    "    \"\"\"\n",
    "    if discriminant < 0:\n",
    "        return None  # No real roots\n",
    "    elif discriminant == 0:\n",
    "        x = -b / (2*a)\n",
    "        return (x, x)  # One real root (repeated)\n",
    "    else:\n",
    "\n",
    "        sqrtdisc = math.sqrt(discriminant)\n",
    "\n",
    "        x1 = (-b + sqrtdisc/ (2*a)) \n",
    "        x2 = (-b - sqrtdisc/ (2*a))\n",
    "        return x1 , x2\n",
    "\n",
    "\n",
    "    "
   ]
  },
  {
   "cell_type": "code",
   "execution_count": 61,
   "metadata": {},
   "outputs": [
    {
     "name": "stdout",
     "output_type": "stream",
     "text": [
      "The solutions are: x1 = 3.5, x2 = 2.5\n"
     ]
    }
   ],
   "source": [
    "# Take input from the user\n",
    "a = float(input(\"Enter the coefficient a: \"))\n",
    "b = float(input(\"Enter the coefficient b: \"))\n",
    "c = float(input(\"Enter the coefficient c: \"))\n",
    "\n",
    "\n",
    "solutions = quadratic(a,b,c)\n",
    "# Print the solutions\n",
    "if solutions is None:\n",
    "    print(\"The equation has no real roots.\")\n",
    "else:\n",
    "    print(f\"The solutions are: x1 = {solutions[0]}, x2 = {solutions[1]}\")"
   ]
  },
  {
   "cell_type": "markdown",
   "metadata": {},
   "source": [
    "## Keywords and Arguments"
   ]
  },
  {
   "cell_type": "code",
   "execution_count": 34,
   "metadata": {},
   "outputs": [],
   "source": [
    "def fonk(a,b,c):  # Python matches names by position from left to right\n",
    "    print(a,b,c)"
   ]
  },
  {
   "cell_type": "code",
   "execution_count": 49,
   "metadata": {},
   "outputs": [
    {
     "name": "stdout",
     "output_type": "stream",
     "text": [
      "10 100 1000\n"
     ]
    }
   ],
   "source": [
    "fonk(10,100,1000) # if you define a function that requires three arguments, you must call it with three arguments"
   ]
  },
  {
   "cell_type": "code",
   "execution_count": 50,
   "metadata": {},
   "outputs": [
    {
     "name": "stdout",
     "output_type": "stream",
     "text": [
      "10 100 1000\n"
     ]
    }
   ],
   "source": [
    "fonk(c=1000, b=100, a=10) # Keyword arguments allow us to match by name, instead of by position"
   ]
  },
  {
   "cell_type": "code",
   "execution_count": 51,
   "metadata": {},
   "outputs": [
    {
     "name": "stdout",
     "output_type": "stream",
     "text": [
      "x 100 1000\n"
     ]
    }
   ],
   "source": [
    "fonk(\"x\", c=1000, b=100)  #all positionals are matched first from left to right in the header, before keywords are matched by name, a gets 1 by position, b and c passed by name"
   ]
  },
  {
   "cell_type": "markdown",
   "metadata": {},
   "source": [
    "defaults"
   ]
  },
  {
   "cell_type": "code",
   "execution_count": 1,
   "metadata": {},
   "outputs": [],
   "source": [
    "def fonk2(a , b=100, c=1000):  #a function that requires one argument and defaults two\n",
    "    print(a,b,c)"
   ]
  },
  {
   "cell_type": "code",
   "execution_count": 2,
   "metadata": {},
   "outputs": [
    {
     "name": "stdout",
     "output_type": "stream",
     "text": [
      "10 100 1000\n"
     ]
    }
   ],
   "source": [
    "fonk2(10)"
   ]
  },
  {
   "cell_type": "code",
   "execution_count": 3,
   "metadata": {},
   "outputs": [
    {
     "name": "stdout",
     "output_type": "stream",
     "text": [
      "10 100 1000\n"
     ]
    }
   ],
   "source": [
    "fonk2(a=10) # If we don’t pass values to b and c, they default to 2 and 3"
   ]
  },
  {
   "cell_type": "code",
   "execution_count": 5,
   "metadata": {},
   "outputs": [
    {
     "name": "stdout",
     "output_type": "stream",
     "text": [
      "7 5 1000\n"
     ]
    }
   ],
   "source": [
    "fonk2(7,5) #If we pass two values, only c gets its default, override defaults"
   ]
  },
  {
   "cell_type": "code",
   "execution_count": 7,
   "metadata": {},
   "outputs": [
    {
     "name": "stdout",
     "output_type": "stream",
     "text": [
      "88 100 99\n"
     ]
    }
   ],
   "source": [
    "fonk2(88, c=99) #choose default keywords allow us to essentially skip over arguments with defaults"
   ]
  },
  {
   "cell_type": "code",
   "execution_count": 9,
   "metadata": {},
   "outputs": [],
   "source": [
    "def func(adem, badem, maden=88, madem=99):  # the caller must always pass at least two arguments, adem and badem but the other two are optional. \n",
    "    print((adem, badem, maden, madem))"
   ]
  },
  {
   "cell_type": "code",
   "execution_count": 12,
   "metadata": {},
   "outputs": [
    {
     "name": "stdout",
     "output_type": "stream",
     "text": [
      "(66, 77, 88, 99)\n"
     ]
    }
   ],
   "source": [
    "func(66, 77)"
   ]
  },
  {
   "cell_type": "code",
   "execution_count": 14,
   "metadata": {},
   "outputs": [
    {
     "name": "stdout",
     "output_type": "stream",
     "text": [
      "(999, 0, 88, 9)\n"
     ]
    }
   ],
   "source": [
    "func(999, madem = 9, badem = 0)  # name= value means a keyword in the call and a default in the function header."
   ]
  },
  {
   "cell_type": "markdown",
   "metadata": {},
   "source": [
    "### Arbitrary Arguments"
   ]
  },
  {
   "cell_type": "markdown",
   "metadata": {},
   "source": [
    " * and **, are designed to support functions that take any number of arguments."
   ]
  },
  {
   "cell_type": "code",
   "execution_count": 21,
   "metadata": {},
   "outputs": [],
   "source": [
    "def fonk(*args): # collects unmatched positional arguments into a tuple\n",
    "    print(args)"
   ]
  },
  {
   "cell_type": "code",
   "execution_count": 17,
   "metadata": {},
   "outputs": [
    {
     "name": "stdout",
     "output_type": "stream",
     "text": [
      "()\n"
     ]
    }
   ],
   "source": [
    "fonk() # Python collects all the positional arguments into a new tuple and assigns the variable args to that tuple"
   ]
  },
  {
   "cell_type": "code",
   "execution_count": 18,
   "metadata": {},
   "outputs": [
    {
     "name": "stdout",
     "output_type": "stream",
     "text": [
      "(1,)\n"
     ]
    }
   ],
   "source": [
    "fonk(1,)"
   ]
  },
  {
   "cell_type": "code",
   "execution_count": 19,
   "metadata": {},
   "outputs": [
    {
     "name": "stdout",
     "output_type": "stream",
     "text": [
      "(1, 2)\n"
     ]
    }
   ],
   "source": [
    "fonk(1,2)"
   ]
  },
  {
   "cell_type": "code",
   "execution_count": 20,
   "metadata": {},
   "outputs": [
    {
     "name": "stdout",
     "output_type": "stream",
     "text": [
      "(66, 77, 88, 99)\n"
     ]
    }
   ],
   "source": [
    "fonk(66,77,88,99)"
   ]
  },
  {
   "cell_type": "code",
   "execution_count": 22,
   "metadata": {},
   "outputs": [],
   "source": [
    "def fonkD(**args): # collects keyword arguments into a new dict, which can then be processed with normal dictionary tools\n",
    "    print(args)"
   ]
  },
  {
   "cell_type": "code",
   "execution_count": 23,
   "metadata": {},
   "outputs": [
    {
     "name": "stdout",
     "output_type": "stream",
     "text": [
      "{}\n"
     ]
    }
   ],
   "source": [
    "fonkD()"
   ]
  },
  {
   "cell_type": "code",
   "execution_count": 25,
   "metadata": {},
   "outputs": [
    {
     "name": "stdout",
     "output_type": "stream",
     "text": [
      "{'x': 66, 'y': 77}\n"
     ]
    }
   ],
   "source": [
    "fonkD(x = 66 , y = 77)"
   ]
  },
  {
   "cell_type": "markdown",
   "metadata": {},
   "source": [
    "function headers can combine normal arguments, the *, and the **"
   ]
  },
  {
   "cell_type": "code",
   "execution_count": 30,
   "metadata": {},
   "outputs": [],
   "source": [
    "def funk(a, *args, **kwargs): \n",
    "    print(a, args, kwargs)"
   ]
  },
  {
   "cell_type": "code",
   "execution_count": 31,
   "metadata": {},
   "outputs": [
    {
     "name": "stdout",
     "output_type": "stream",
     "text": [
      "66 (77, 88) {'x': 99, 'y': 999}\n"
     ]
    }
   ],
   "source": [
    "funk(66, 77, 88 , x = 99, y = 999)"
   ]
  },
  {
   "cell_type": "code",
   "execution_count": 32,
   "metadata": {},
   "outputs": [],
   "source": [
    "def func(a1, a2, a3, a4):\n",
    "    print(a1, a2, a3, a4)"
   ]
  },
  {
   "cell_type": "code",
   "execution_count": 33,
   "metadata": {},
   "outputs": [
    {
     "data": {
      "text/plain": [
       "(66, 77, 88, 99)"
      ]
     },
     "execution_count": 33,
     "metadata": {},
     "output_type": "execute_result"
    }
   ],
   "source": [
    "args = (66, 77)\n",
    "args += (88, 99)\n",
    "args"
   ]
  },
  {
   "cell_type": "code",
   "execution_count": 52,
   "metadata": {},
   "outputs": [
    {
     "name": "stdout",
     "output_type": "stream",
     "text": [
      "66 77 88 99\n"
     ]
    }
   ],
   "source": [
    "func(*args) #pass four arguments to a function in a tuple and let Python unpack them into individual arguments\n",
    "\n",
    "# * in the func call let's you unpacka collection of arguments"
   ]
  },
  {
   "cell_type": "code",
   "execution_count": 47,
   "metadata": {},
   "outputs": [],
   "source": [
    "kwargs = {'a1': 1,  'a3': 99, 'a4': 999}"
   ]
  },
  {
   "cell_type": "code",
   "execution_count": 48,
   "metadata": {},
   "outputs": [],
   "source": [
    "kwargs['a2'] = 2"
   ]
  },
  {
   "cell_type": "code",
   "execution_count": 49,
   "metadata": {},
   "outputs": [
    {
     "data": {
      "text/plain": [
       "{'a1': 1, 'a3': 99, 'a4': 999, 'a2': 2}"
      ]
     },
     "execution_count": 49,
     "metadata": {},
     "output_type": "execute_result"
    }
   ],
   "source": [
    "kwargs"
   ]
  },
  {
   "cell_type": "code",
   "execution_count": 51,
   "metadata": {},
   "outputs": [
    {
     "name": "stdout",
     "output_type": "stream",
     "text": [
      "1 2 99 999\n"
     ]
    }
   ],
   "source": [
    "func(**kwargs) # ** in the function call let's you unpack a dict of key/value pairs into separate keyword arguments"
   ]
  },
  {
   "cell_type": "code",
   "execution_count": 54,
   "metadata": {},
   "outputs": [
    {
     "name": "stdout",
     "output_type": "stream",
     "text": [
      "66 77 88 99\n"
     ]
    }
   ],
   "source": [
    "func(*(66, 77), **{'a4': 99, 'a3': 88}) "
   ]
  },
  {
   "cell_type": "code",
   "execution_count": 55,
   "metadata": {},
   "outputs": [
    {
     "name": "stdout",
     "output_type": "stream",
     "text": [
      "66 77 88 99\n"
     ]
    }
   ],
   "source": [
    "func(66, *(77,), a3=88, **{'a4':99})"
   ]
  },
  {
   "cell_type": "code",
   "execution_count": 56,
   "metadata": {},
   "outputs": [],
   "source": [
    "def whatever(func, *args, **kwargs):\n",
    "    print(\"calling: \", func.__name__)\n",
    "    return func(*args,**kwargs)\n",
    "\n",
    "def add_these(a,b,c,d):\n",
    "    return a+b+c+d"
   ]
  },
  {
   "cell_type": "code",
   "execution_count": 57,
   "metadata": {},
   "outputs": [
    {
     "name": "stdout",
     "output_type": "stream",
     "text": [
      "calling:  add_these\n"
     ]
    },
    {
     "data": {
      "text/plain": [
       "10"
      ]
     },
     "execution_count": 57,
     "metadata": {},
     "output_type": "execute_result"
    }
   ],
   "source": [
    "whatever(add_these, 1, 2, c = 3, d = 4)"
   ]
  },
  {
   "cell_type": "markdown",
   "metadata": {},
   "source": [
    "\n",
    " ### greatest common denominator\n",
    "\n",
    "calculate the GCD using the Euclidean algorithm and tracks the recursion depth accurately."
   ]
  },
  {
   "cell_type": "code",
   "execution_count": 1,
   "metadata": {},
   "outputs": [
    {
     "name": "stdout",
     "output_type": "stream",
     "text": [
      "recursion #1 for (a=256473, b=2255)\n",
      "recursion #2 for (a=2255, b=1658)\n",
      "recursion #3 for (a=1658, b=597)\n",
      "recursion #4 for (a=597, b=464)\n",
      "recursion #5 for (a=464, b=133)\n",
      "recursion #6 for (a=133, b=65)\n",
      "recursion #7 for (a=65, b=3)\n",
      "recursion #8 for (a=3, b=2)\n",
      "recursion #9 for (a=2, b=1)\n",
      "The greatest common divisor of 256473 and 2255 is 1 after 9 recursions.\n"
     ]
    }
   ],
   "source": [
    "\n",
    "\n",
    "def my_gcd(a, b):\n",
    "    global depth  #any changes made to depth inside this function will affect the global variable depth.\n",
    "    if b == 0:    #If b is 0, the function returns b, return a, as the GCD of any number and 0 is the number itself.\n",
    "\n",
    "        return a\n",
    "    else:\n",
    "        depth += 1  #incremented by 1 to keep track of the recursion depth.\n",
    "        print(f\"recursion #{depth} for (a={a}, b={b})\")\n",
    "        return my_gcd(b, a % b)\n",
    "\n",
    "i = int(input(\"Tell me the first integer: \"))\n",
    "j = int(input(\"Tell me the second integer: \"))\n",
    "if i < j:\n",
    "    i, j = j, i\n",
    "depth = 0 # initializes the global variable depth to 0 before starting the recursion\n",
    "print(f\"The greatest common divisor of {i} and {j} is {my_gcd(i, j)} after {depth} recursions.\")\n",
    "\n"
   ]
  },
  {
   "cell_type": "markdown",
   "metadata": {},
   "source": [
    "### special built-in function map\n",
    "\n",
    "the map function can apply any function to as many lists as required for its arguments."
   ]
  },
  {
   "cell_type": "code",
   "execution_count": 4,
   "metadata": {},
   "outputs": [],
   "source": [
    "def topla(a, b):\n",
    "    return  a + b\n",
    "\n",
    "\n",
    "x = [1,2,3,4,5]\n",
    "y = [6,7,8,9,10]\n",
    "\n",
    "\n"
   ]
  },
  {
   "cell_type": "code",
   "execution_count": 3,
   "metadata": {},
   "outputs": [
    {
     "data": {
      "text/plain": [
       "[7, 9, 11, 13, 15]"
      ]
     },
     "execution_count": 3,
     "metadata": {},
     "output_type": "execute_result"
    }
   ],
   "source": [
    "list(map(topla, x, y))  #maps the sum function to 2 variables that have been assigned two lists each for the two arguments"
   ]
  },
  {
   "cell_type": "code",
   "execution_count": 6,
   "metadata": {},
   "outputs": [
    {
     "data": {
      "text/plain": [
       "[1, 3, 5, 7, 9, 11, 13, 15, 17, 19]"
      ]
     },
     "execution_count": 6,
     "metadata": {},
     "output_type": "execute_result"
    }
   ],
   "source": [
    "#generate a list of odd numbers using lambda function\n",
    "\n",
    "list(map(lambda x : 2 * x + 1, range(10)))"
   ]
  },
  {
   "cell_type": "code",
   "execution_count": 7,
   "metadata": {},
   "outputs": [
    {
     "data": {
      "text/plain": [
       "[0, 5, 10, 15, 20, 25, 30, 35, 40, 45]"
      ]
     },
     "execution_count": 7,
     "metadata": {},
     "output_type": "execute_result"
    }
   ],
   "source": [
    "#generate a list of all multiple of 5\n",
    "\n",
    "list(map(lambda x : 5 * x, range(10) ))"
   ]
  },
  {
   "cell_type": "markdown",
   "metadata": {},
   "source": [
    "### special filter built-in function\n",
    "\n",
    "\n",
    "The filtering function takes the same form as the mapping function but is used\n",
    "to extract items from the iterable that satisfy the Boolean filtering condition at\n",
    "hand\n",
    "\n",
    "\n",
    "The filter function may play an important role in selecting items from a\n",
    "given list based on certain criteria"
   ]
  },
  {
   "cell_type": "code",
   "execution_count": 8,
   "metadata": {},
   "outputs": [],
   "source": [
    "def evenSteven(x):\n",
    "    return x % 2 == 0"
   ]
  },
  {
   "cell_type": "code",
   "execution_count": 9,
   "metadata": {},
   "outputs": [
    {
     "data": {
      "text/plain": [
       "[0, 2, 4, 6, 8]"
      ]
     },
     "execution_count": 9,
     "metadata": {},
     "output_type": "execute_result"
    }
   ],
   "source": [
    "list(filter(evenSteven, range(10)))  #code keeps only even numbers in the generated list"
   ]
  },
  {
   "cell_type": "code",
   "execution_count": 11,
   "metadata": {},
   "outputs": [
    {
     "data": {
      "text/plain": [
       "[0, 2, 4, 6, 8]"
      ]
     },
     "execution_count": 11,
     "metadata": {},
     "output_type": "execute_result"
    }
   ],
   "source": [
    "list(filter(lambda x : x % 2 == 0, range(10)))  # rewritten by using a lambda expression"
   ]
  },
  {
   "cell_type": "code",
   "execution_count": 12,
   "metadata": {},
   "outputs": [
    {
     "data": {
      "text/plain": [
       "[0, 3, 6, 9]"
      ]
     },
     "execution_count": 12,
     "metadata": {},
     "output_type": "execute_result"
    }
   ],
   "source": [
    "list(filter(lambda x : x % 3 == 0, range(10)))"
   ]
  },
  {
   "cell_type": "code",
   "execution_count": 13,
   "metadata": {},
   "outputs": [],
   "source": [
    "dizi = \"\"\"The filtering function takes the same form as the mapping function but is used\n",
    "to extract items from the iterable that satisfy the Boolean filtering condition\"\"\""
   ]
  },
  {
   "cell_type": "code",
   "execution_count": 16,
   "metadata": {},
   "outputs": [
    {
     "data": {
      "text/plain": [
       "['function', 'form', 'function', 'to', 'from', 'Boolean', 'condition']"
      ]
     },
     "execution_count": 16,
     "metadata": {},
     "output_type": "execute_result"
    }
   ],
   "source": [
    "list(filter(lambda d: \"o\" in d, dizi.split()))  # only words that contain the letter o are selected"
   ]
  },
  {
   "cell_type": "markdown",
   "metadata": {},
   "source": [
    "##  functools function reduce\n",
    "\n",
    "takes the same form as the mapping and filtering functions but applies\n",
    "the function to items in the iterable progressively until the list is exhausted\n",
    "and reduced to a single value or object"
   ]
  },
  {
   "cell_type": "code",
   "execution_count": 1,
   "metadata": {},
   "outputs": [],
   "source": [
    "def kat(r, t):\n",
    "    return r ** t"
   ]
  },
  {
   "cell_type": "code",
   "execution_count": 2,
   "metadata": {},
   "outputs": [],
   "source": [
    "from functools import reduce"
   ]
  },
  {
   "cell_type": "code",
   "execution_count": 7,
   "metadata": {},
   "outputs": [
    {
     "data": {
      "text/plain": [
       "4096"
      ]
     },
     "execution_count": 7,
     "metadata": {},
     "output_type": "execute_result"
    }
   ],
   "source": [
    "reduce(kat, range(2,5))"
   ]
  },
  {
   "cell_type": "code",
   "execution_count": 8,
   "metadata": {},
   "outputs": [
    {
     "data": {
      "text/plain": [
       "4096"
      ]
     },
     "execution_count": 8,
     "metadata": {},
     "output_type": "execute_result"
    }
   ],
   "source": [
    "reduce(lambda r, t : r ** t, range(2,5))"
   ]
  },
  {
   "cell_type": "code",
   "execution_count": 1,
   "metadata": {},
   "outputs": [],
   "source": [
    "def echo(*args, **kwargs):\n",
    "    print(args, kwargs)"
   ]
  },
  {
   "cell_type": "code",
   "execution_count": 5,
   "metadata": {},
   "outputs": [],
   "source": [
    "args = (1, 2)\n",
    "kwargs = {\"a\": 3, \"b\": 4}"
   ]
  },
  {
   "cell_type": "code",
   "execution_count": 7,
   "metadata": {},
   "outputs": [
    {
     "name": "stdout",
     "output_type": "stream",
     "text": [
      "(1, 2) {'a': 3, 'b': 4}\n"
     ]
    }
   ],
   "source": [
    "echo(*args, **kwargs)"
   ]
  },
  {
   "cell_type": "code",
   "execution_count": 8,
   "metadata": {},
   "outputs": [
    {
     "data": {
      "text/plain": [
       "1024"
      ]
     },
     "execution_count": 8,
     "metadata": {},
     "output_type": "execute_result"
    }
   ],
   "source": [
    "pow(*(2,10))"
   ]
  },
  {
   "cell_type": "code",
   "execution_count": 9,
   "metadata": {},
   "outputs": [
    {
     "name": "stdout",
     "output_type": "stream",
     "text": [
      "(66, 1, 2) {'c': 77, 'a': 3, 'b': 4}\n"
     ]
    }
   ],
   "source": [
    "echo(66, c = 77, *args, **kwargs)"
   ]
  },
  {
   "cell_type": "markdown",
   "metadata": {},
   "source": [
    "code a function that is able to compute the minimum value from an arbitrary set of arguments and an arbitrary set of object data types."
   ]
  },
  {
   "cell_type": "code",
   "execution_count": 3,
   "metadata": {},
   "outputs": [],
   "source": [
    "def mini1(*args):\n",
    "    result = args[0]        #The variable result is initialized with the first element of the args tuple\n",
    "    for arg in args[1:]:    #The for loop iterates over the remaining elements of the args tuple, starting from the second element (args[1]).\n",
    "\n",
    "\n",
    "        if arg < result:    #Inside the loop, each element (arg) is compared to the current value of result.\n",
    "            result = arg    #if arg is smaller than result, result is updated to the value of arg.\n",
    "\n",
    "\n",
    "    return result\n"
   ]
  },
  {
   "cell_type": "code",
   "execution_count": 4,
   "metadata": {},
   "outputs": [
    {
     "data": {
      "text/plain": [
       "55"
      ]
     },
     "execution_count": 4,
     "metadata": {},
     "output_type": "execute_result"
    }
   ],
   "source": [
    "mini1(99,66,88,77,55)"
   ]
  },
  {
   "cell_type": "markdown",
   "metadata": {},
   "source": [
    "Let's see this in action with the specific example provided above:\n",
    "\n",
    "Initialization:\n",
    "\n",
    "1. args = (99, 66, 88, 77, 55)\n",
    "result = args[0] = 99\n",
    "First Iteration (arg = 66):\n",
    "\n",
    "2. Compare: 66 < 99 (True)\n",
    "Update result: result = 66\n",
    "Second Iteration (arg = 88):\n",
    "\n",
    "3. Compare: 88 < 66 (False)\n",
    "result remains 66\n",
    "Third Iteration (arg = 77):\n",
    "\n",
    "4. Compare: 77 < 66 (False)\n",
    "result remains 66\n",
    "Fourth Iteration (arg = 55):\n",
    "\n",
    "5. Compare: 55 < 66 (True)\n",
    "Update result: result = 55\n",
    "\n",
    "6. End of Loop:\n",
    "\n",
    "The loop finishes, and the final value of result is 55.\n",
    "\n",
    "7. Return:\n",
    "\n",
    "The function returns 55.\n",
    "So, the mini1 function will return 55 when called with the arguments 99, 66, 88, 77, 55.\n",
    "\n",
    "\n",
    "\n",
    "\n",
    "\n",
    "\n",
    "\n",
    "\n"
   ]
  },
  {
   "cell_type": "markdown",
   "metadata": {},
   "source": [
    "Another way to find the minimum:"
   ]
  },
  {
   "cell_type": "code",
   "execution_count": 17,
   "metadata": {},
   "outputs": [],
   "source": [
    "%timeit\n",
    "def mini2(first, *rest):\n",
    "    for arg in rest:\n",
    "        if arg < first:\n",
    "            first = arg\n",
    "\n",
    "    return first"
   ]
  },
  {
   "cell_type": "code",
   "execution_count": 18,
   "metadata": {},
   "outputs": [
    {
     "data": {
      "text/plain": [
       "55"
      ]
     },
     "execution_count": 18,
     "metadata": {},
     "output_type": "execute_result"
    }
   ],
   "source": [
    "mini2(99,66,88,77,55)"
   ]
  },
  {
   "cell_type": "markdown",
   "metadata": {},
   "source": [
    "Works very similar to the way the preceding example had worked"
   ]
  },
  {
   "cell_type": "markdown",
   "metadata": {},
   "source": [
    "3rd and 4th example will find the minimum by converting tuple to list and then returning the first positional element from the sorted list using sort and sorted methods seperately"
   ]
  },
  {
   "cell_type": "code",
   "execution_count": 10,
   "metadata": {},
   "outputs": [],
   "source": [
    "def mini3(*args):\n",
    "    tmp = list(args)\n",
    "    #return tmp.sort()[0]  big mistake , tmp.sort() none type object\n",
    "    tmp.sort()\n",
    "    return tmp[0]\n",
    "    \n"
   ]
  },
  {
   "cell_type": "code",
   "execution_count": 11,
   "metadata": {},
   "outputs": [
    {
     "data": {
      "text/plain": [
       "55"
      ]
     },
     "execution_count": 11,
     "metadata": {},
     "output_type": "execute_result"
    }
   ],
   "source": [
    "mini3(99,66,88,77,55)"
   ]
  },
  {
   "cell_type": "code",
   "execution_count": 15,
   "metadata": {},
   "outputs": [],
   "source": [
    "def mini4(*args):\n",
    "    tmp = list(args)\n",
    "    x = sorted(tmp)\n",
    "    \n",
    "    return x[0]"
   ]
  },
  {
   "cell_type": "code",
   "execution_count": 16,
   "metadata": {},
   "outputs": [
    {
     "data": {
      "text/plain": [
       "55"
      ]
     },
     "execution_count": 16,
     "metadata": {},
     "output_type": "execute_result"
    }
   ],
   "source": [
    "mini4(99,66,88,77,55)"
   ]
  },
  {
   "cell_type": "markdown",
   "metadata": {},
   "source": [
    "To get the maximum value using the above functions:\n",
    "the first two versions only require changing < to >, and the third simply requires that we return tmp[−1] instead of tmp[0]"
   ]
  },
  {
   "cell_type": "markdown",
   "metadata": {},
   "source": [
    "passing in an arbitrary comparison function:"
   ]
  },
  {
   "cell_type": "code",
   "execution_count": 24,
   "metadata": {},
   "outputs": [],
   "source": [
    "def minMax(testfonk, *args):\n",
    "    result = args[0]\n",
    "    for arg in args[1:]:\n",
    "        if testfonk(arg, result):\n",
    "            result = arg\n",
    "\n",
    "    return result\n",
    "\n",
    "def less(x,y): return x < y\n",
    "def greater(x ,y) : return x > y"
   ]
  },
  {
   "cell_type": "code",
   "execution_count": 25,
   "metadata": {},
   "outputs": [
    {
     "data": {
      "text/plain": [
       "55"
      ]
     },
     "execution_count": 25,
     "metadata": {},
     "output_type": "execute_result"
    }
   ],
   "source": [
    "minMax(less, 99,66,88,77,55)"
   ]
  },
  {
   "cell_type": "code",
   "execution_count": 34,
   "metadata": {},
   "outputs": [
    {
     "data": {
      "text/plain": [
       "99"
      ]
     },
     "execution_count": 34,
     "metadata": {},
     "output_type": "execute_result"
    }
   ],
   "source": [
    "minMax(greater, 99,66,88,77,55)"
   ]
  },
  {
   "cell_type": "markdown",
   "metadata": {},
   "source": [
    "emulating set functions\n",
    "\n",
    "a version that intersects an arbitrary number of sequences (one or more) \n",
    "by using the varargs matching form *args to collect all the passed-in arguments."
   ]
  },
  {
   "cell_type": "code",
   "execution_count": 48,
   "metadata": {},
   "outputs": [],
   "source": [
    "def intersect(*args):\n",
    "    result = []                     #An empty list result is initialized to store the common elements\n",
    "    for x in args[0]:               #Iterate Over the First Sequence, The function iterates over each element x in the first sequence args[0].\n",
    "        if x in result: continue    #Skip Duplicates in Result\n",
    "        for y in args[1:]:          #Check Presence in All Other Sequences\n",
    "            if x not in y: break    #If x is not found in any of these sequences (if x not in y), the inner loop breaks, and x is not added to result.        \n",
    "\n",
    "        else:\n",
    "            result.append(x)\n",
    "\n",
    "    return result\n",
    "\n",
    "def union(*args):\n",
    "    result = []\n",
    "    for seq in args:\n",
    "        for x in seq:               #Iterate Over Each Element in Sequence\n",
    "            if x not in result:\n",
    "                result.append(x)\n",
    "\n",
    "    return result\n",
    "\n",
    "        "
   ]
  },
  {
   "cell_type": "code",
   "execution_count": 49,
   "metadata": {},
   "outputs": [],
   "source": [
    "a, b, c = \"ahmet\", \"mehmet\", \"şevket\""
   ]
  },
  {
   "cell_type": "code",
   "execution_count": 50,
   "metadata": {},
   "outputs": [
    {
     "data": {
      "text/plain": [
       "['e', 't']"
      ]
     },
     "execution_count": 50,
     "metadata": {},
     "output_type": "execute_result"
    }
   ],
   "source": [
    "intersect(a,b,c)"
   ]
  },
  {
   "cell_type": "code",
   "execution_count": 51,
   "metadata": {},
   "outputs": [
    {
     "data": {
      "text/plain": [
       "['a', 'h', 'm', 'e', 't', 'ş', 'v', 'k']"
      ]
     },
     "execution_count": 51,
     "metadata": {},
     "output_type": "execute_result"
    }
   ],
   "source": [
    "union(a,b,c)"
   ]
  },
  {
   "cell_type": "code",
   "execution_count": 52,
   "metadata": {},
   "outputs": [
    {
     "data": {
      "text/plain": [
       "[2, 3]"
      ]
     },
     "execution_count": 52,
     "metadata": {},
     "output_type": "execute_result"
    }
   ],
   "source": [
    "intersect([1, 2, 3, 4], [2, 3, 5], [2, 3, 6])\n"
   ]
  },
  {
   "cell_type": "code",
   "execution_count": 53,
   "metadata": {},
   "outputs": [
    {
     "data": {
      "text/plain": [
       "[1, 2, 3, 4, 5, 6]"
      ]
     },
     "execution_count": 53,
     "metadata": {},
     "output_type": "execute_result"
    }
   ],
   "source": [
    "union([1, 2, 3, 4], [2, 3, 5], [2, 3, 6])\n"
   ]
  },
  {
   "cell_type": "markdown",
   "metadata": {},
   "source": [
    "test a given function func with different rotations of a list items"
   ]
  },
  {
   "cell_type": "code",
   "execution_count": 67,
   "metadata": {},
   "outputs": [],
   "source": [
    "def tester(func, items, trace=True):\n",
    "    for i in range(len(items)):\n",
    "        items = items[1:] + items[:1]   # The concatenation items[1:] + items[:1] creates a new list where the first element is moved to the end\n",
    "        if trace: \n",
    "            print(items)          #trace: This is a boolean flag that, when set to True, enables printing the current state of items after each rotation.\n",
    "        print(sorted(func(*items)))\n",
    "\n",
    "\n",
    "def example(*args):\n",
    "    return args"
   ]
  },
  {
   "cell_type": "code",
   "execution_count": 69,
   "metadata": {},
   "outputs": [
    {
     "name": "stdout",
     "output_type": "stream",
     "text": [
      "[2, 1, 3]\n",
      "[1, 2, 3]\n",
      "[1, 3, 2]\n",
      "[1, 2, 3]\n",
      "[3, 2, 1]\n",
      "[1, 2, 3]\n"
     ]
    }
   ],
   "source": [
    "tester(example, [3,2,1], trace=True)"
   ]
  },
  {
   "cell_type": "code",
   "execution_count": 71,
   "metadata": {},
   "outputs": [
    {
     "name": "stdout",
     "output_type": "stream",
     "text": [
      "['e', 't']\n",
      "['e', 't']\n",
      "['e', 't']\n"
     ]
    }
   ],
   "source": [
    "tester(intersect,(a,b,c), trace=False)"
   ]
  },
  {
   "cell_type": "code",
   "execution_count": 72,
   "metadata": {},
   "outputs": [
    {
     "name": "stdout",
     "output_type": "stream",
     "text": [
      "['a', 'e', 'h', 'k', 'm', 't', 'v', 'ş']\n",
      "['a', 'e', 'h', 'k', 'm', 't', 'v', 'ş']\n",
      "['a', 'e', 'h', 'k', 'm', 't', 'v', 'ş']\n"
     ]
    }
   ],
   "source": [
    "tester(union,(a,b,c), trace=False)"
   ]
  },
  {
   "cell_type": "markdown",
   "metadata": {},
   "source": [
    "Closures\n",
    "\n",
    "closures are the result of a nested function— that is, one function that is defined inside\n",
    "another"
   ]
  },
  {
   "cell_type": "code",
   "execution_count": 8,
   "metadata": {},
   "outputs": [],
   "source": [
    "def outer():\n",
    "    greeting = \"Good Morning, \"\n",
    "    def greet(who):\n",
    "        print(greeting, who)\n",
    "\n",
    "    return greet"
   ]
  },
  {
   "cell_type": "code",
   "execution_count": 3,
   "metadata": {},
   "outputs": [],
   "source": [
    "x = outer()"
   ]
  },
  {
   "cell_type": "code",
   "execution_count": 4,
   "metadata": {},
   "outputs": [
    {
     "name": "stdout",
     "output_type": "stream",
     "text": [
      "Good Morning,  joe\n"
     ]
    }
   ],
   "source": [
    "x(\"joe\")"
   ]
  },
  {
   "cell_type": "code",
   "execution_count": 5,
   "metadata": {},
   "outputs": [
    {
     "data": {
      "text/plain": [
       "<function __main__.outer.<locals>.greet(who)>"
      ]
     },
     "execution_count": 5,
     "metadata": {},
     "output_type": "execute_result"
    }
   ],
   "source": [
    "outer()"
   ]
  },
  {
   "cell_type": "code",
   "execution_count": 6,
   "metadata": {},
   "outputs": [],
   "source": [
    "def outer(greeting):\n",
    "    print(\"good morning\")\n",
    "    def inner(msg):\n",
    "        print(msg)\n",
    "\n",
    "    inner(greeting)\n",
    "    "
   ]
  },
  {
   "cell_type": "code",
   "execution_count": 7,
   "metadata": {},
   "outputs": [
    {
     "name": "stdout",
     "output_type": "stream",
     "text": [
      "good morning\n",
      "Motherpucker\n"
     ]
    }
   ],
   "source": [
    "outer(\"Motherpucker\")"
   ]
  },
  {
   "cell_type": "markdown",
   "metadata": {},
   "source": [
    "function scope example"
   ]
  },
  {
   "cell_type": "code",
   "execution_count": 1,
   "metadata": {},
   "outputs": [],
   "source": [
    "num = 5\n",
    "def pyfunc():\n",
    "    global num\n",
    "    num = 10\n",
    "\n",
    "    "
   ]
  },
  {
   "cell_type": "code",
   "execution_count": 2,
   "metadata": {},
   "outputs": [
    {
     "name": "stdout",
     "output_type": "stream",
     "text": [
      "5\n"
     ]
    }
   ],
   "source": [
    "print(num)"
   ]
  },
  {
   "cell_type": "code",
   "execution_count": 3,
   "metadata": {},
   "outputs": [],
   "source": [
    "pyfunc()"
   ]
  },
  {
   "cell_type": "code",
   "execution_count": 4,
   "metadata": {},
   "outputs": [
    {
     "name": "stdout",
     "output_type": "stream",
     "text": [
      "10\n"
     ]
    }
   ],
   "source": [
    "print(num)"
   ]
  },
  {
   "cell_type": "code",
   "execution_count": null,
   "metadata": {},
   "outputs": [],
   "source": []
  }
 ],
 "metadata": {
  "kernelspec": {
   "display_name": "base",
   "language": "python",
   "name": "python3"
  },
  "language_info": {
   "codemirror_mode": {
    "name": "ipython",
    "version": 3
   },
   "file_extension": ".py",
   "mimetype": "text/x-python",
   "name": "python",
   "nbconvert_exporter": "python",
   "pygments_lexer": "ipython3",
   "version": "3.11.7"
  }
 },
 "nbformat": 4,
 "nbformat_minor": 2
}
