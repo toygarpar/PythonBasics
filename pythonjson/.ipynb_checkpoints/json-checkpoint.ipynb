{
 "cells": [
  {
   "cell_type": "code",
   "execution_count": 1,
   "id": "3fb2657a-0c5a-4e9e-a685-6dacfc9c3455",
   "metadata": {},
   "outputs": [],
   "source": [
    "import json"
   ]
  },
  {
   "cell_type": "code",
   "execution_count": 13,
   "id": "e01ac1e5-044b-4cc1-bb4a-bd037191ff8b",
   "metadata": {},
   "outputs": [],
   "source": [
    "person_str  = '{\"name\": \"Toygar\", \"languages\": [\"python\", \"C\"]}'"
   ]
  },
  {
   "cell_type": "markdown",
   "id": "a3491906-5827-4bfe-946f-49f9f027f3bb",
   "metadata": {},
   "source": [
    "> Json string to Dict"
   ]
  },
  {
   "cell_type": "code",
   "execution_count": 14,
   "id": "dcd21c8a-2a65-41d6-9c1a-3cd091bfaa61",
   "metadata": {},
   "outputs": [],
   "source": [
    "result  = json.loads(person_str)"
   ]
  },
  {
   "cell_type": "code",
   "execution_count": 15,
   "id": "1c9ac248-b518-4781-aa25-82d9e408a57a",
   "metadata": {},
   "outputs": [
    {
     "name": "stdout",
     "output_type": "stream",
     "text": [
      "<class 'dict'>\n"
     ]
    }
   ],
   "source": [
    "print(type(result))"
   ]
  },
  {
   "cell_type": "code",
   "execution_count": 16,
   "id": "bbdb6117-8a34-4e68-98b0-bea6a0bfe477",
   "metadata": {},
   "outputs": [],
   "source": [
    "res = result[\"name\"]"
   ]
  },
  {
   "cell_type": "code",
   "execution_count": 17,
   "id": "e95db7b8-013a-429e-8e8e-d2b294988e2a",
   "metadata": {},
   "outputs": [
    {
     "data": {
      "text/plain": [
       "'Toygar'"
      ]
     },
     "execution_count": 17,
     "metadata": {},
     "output_type": "execute_result"
    }
   ],
   "source": [
    "res\n"
   ]
  },
  {
   "cell_type": "code",
   "execution_count": 18,
   "id": "fc91e608-1af8-4f99-8abe-9686186da0d2",
   "metadata": {},
   "outputs": [
    {
     "data": {
      "text/plain": [
       "['python', 'C']"
      ]
     },
     "execution_count": 18,
     "metadata": {},
     "output_type": "execute_result"
    }
   ],
   "source": [
    "res1  = result[\"languages\"]\n",
    "res1"
   ]
  },
  {
   "cell_type": "code",
   "execution_count": null,
   "id": "fdcf16d1-23ef-4df7-a896-a0a6f848d823",
   "metadata": {},
   "outputs": [],
   "source": []
  },
  {
   "cell_type": "code",
   "execution_count": null,
   "id": "ebaaac27-245a-4b94-be37-e70819f8305d",
   "metadata": {},
   "outputs": [],
   "source": []
  }
 ],
 "metadata": {
  "kernelspec": {
   "display_name": "Python 3 (ipykernel)",
   "language": "python",
   "name": "python3"
  },
  "language_info": {
   "codemirror_mode": {
    "name": "ipython",
    "version": 3
   },
   "file_extension": ".py",
   "mimetype": "text/x-python",
   "name": "python",
   "nbconvert_exporter": "python",
   "pygments_lexer": "ipython3",
   "version": "3.11.5"
  }
 },
 "nbformat": 4,
 "nbformat_minor": 5
}
