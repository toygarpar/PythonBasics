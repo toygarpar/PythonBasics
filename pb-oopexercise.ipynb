{
 "cells": [
  {
   "cell_type": "markdown",
   "id": "e8f526ce-287d-486f-b2a1-1ba7dcf10336",
   "metadata": {},
   "source": [
    "# OOP"
   ]
  },
  {
   "cell_type": "code",
   "execution_count": 1,
   "id": "d55d68c3-ea72-4b99-b978-f0acfcf7a779",
   "metadata": {},
   "outputs": [],
   "source": [
    "liste = [ 1, 2, 3]"
   ]
  },
  {
   "cell_type": "code",
   "execution_count": 2,
   "id": "94b6cc4f-87ed-4538-8027-d4259c7986b1",
   "metadata": {},
   "outputs": [
    {
     "name": "stdout",
     "output_type": "stream",
     "text": [
      "<class 'list'>\n"
     ]
    }
   ],
   "source": [
    "lst = (type(liste))\n",
    "print(lst)\n",
    "       \n",
    "       "
   ]
  },
  {
   "cell_type": "markdown",
   "id": "bdc9c74c-f096-4a09-b7e3-fa046d0bca8d",
   "metadata": {},
   "source": [
    "## Class"
   ]
  },
  {
   "cell_type": "code",
   "execution_count": 3,
   "id": "4a99ea3c-8d91-47a1-afe9-c341fd894bd4",
   "metadata": {},
   "outputs": [],
   "source": [
    "class Person:\n",
    "    pass"
   ]
  },
  {
   "cell_type": "markdown",
   "id": "372003ef-2ace-479b-b9e6-bae00be32431",
   "metadata": {},
   "source": [
    "### class attributes"
   ]
  },
  {
   "cell_type": "code",
   "execution_count": null,
   "id": "f8abdeeb-6949-446c-976b-5aa38b694fa8",
   "metadata": {},
   "outputs": [],
   "source": []
  },
  {
   "cell_type": "markdown",
   "id": "608cfd3d-a24a-42aa-a8d4-a7e0b3902bc0",
   "metadata": {},
   "source": [
    "### constructor (yapıcı method)"
   ]
  },
  {
   "cell_type": "code",
   "execution_count": 4,
   "id": "489a94aa-4515-4791-be89-9f64422789c2",
   "metadata": {},
   "outputs": [],
   "source": [
    "class Person:\n",
    "    #class attributes\n",
    "    address = \"no info\"\n",
    "    def __init__(self, name, year):\n",
    "        #object attributes\n",
    "        self.name = name\n",
    "        self.year  = year\n",
    "        print(\"__init__ metotu çalıştı!!!\")\n",
    "\n",
    "    #instance methods\n",
    "    def intro(self):\n",
    "        print(\"Merhaba, ben \" +self.name)\n",
    "\n",
    "    def calculate_age(self):\n",
    "        return 2024 - self.year\n",
    "    "
   ]
  },
  {
   "cell_type": "markdown",
   "id": "bc1026e8-05ea-4e2d-9719-3da415196f46",
   "metadata": {},
   "source": [
    "## object, instance"
   ]
  },
  {
   "cell_type": "code",
   "execution_count": 5,
   "id": "6a07e210-73d3-48b6-9bee-ee169a554f36",
   "metadata": {},
   "outputs": [
    {
     "name": "stdout",
     "output_type": "stream",
     "text": [
      "__init__ metotu çalıştı!!!\n"
     ]
    }
   ],
   "source": [
    "p1 = Person(\"Toygar\", 1974)"
   ]
  },
  {
   "cell_type": "code",
   "execution_count": 6,
   "id": "c49ca28e-9f40-437a-b767-e250420d9039",
   "metadata": {},
   "outputs": [
    {
     "name": "stdout",
     "output_type": "stream",
     "text": [
      "__init__ metotu çalıştı!!!\n"
     ]
    }
   ],
   "source": [
    "p2 = Person(\"Selçuk\", 1983)"
   ]
  },
  {
   "cell_type": "code",
   "execution_count": 7,
   "id": "2af63c64-01c1-4ccb-afc3-79bd8c8a4177",
   "metadata": {},
   "outputs": [
    {
     "name": "stdout",
     "output_type": "stream",
     "text": [
      "<__main__.Person object at 0x0000024D74DF6B90>\n"
     ]
    }
   ],
   "source": [
    "print(p1)"
   ]
  },
  {
   "cell_type": "code",
   "execution_count": 8,
   "id": "eee85791-5412-4429-8229-c3a2e6178051",
   "metadata": {},
   "outputs": [
    {
     "name": "stdout",
     "output_type": "stream",
     "text": [
      "<__main__.Person object at 0x0000024D74DF6710>\n"
     ]
    }
   ],
   "source": [
    "print(p2)"
   ]
  },
  {
   "cell_type": "code",
   "execution_count": 9,
   "id": "f22f19d1-0d35-4234-88db-b2b67b3851e9",
   "metadata": {},
   "outputs": [
    {
     "name": "stdout",
     "output_type": "stream",
     "text": [
      "<class '__main__.Person'>\n"
     ]
    }
   ],
   "source": [
    "print(type(p1))\n"
   ]
  },
  {
   "cell_type": "code",
   "execution_count": 10,
   "id": "63da2bce-0ae1-4c4f-83b1-e6886f308bd6",
   "metadata": {},
   "outputs": [
    {
     "data": {
      "text/plain": [
       "__main__.Person"
      ]
     },
     "execution_count": 10,
     "metadata": {},
     "output_type": "execute_result"
    }
   ],
   "source": [
    "type(p1)"
   ]
  },
  {
   "cell_type": "code",
   "execution_count": 11,
   "id": "0f12146b-121f-4493-9a7d-6b4d0713d3a0",
   "metadata": {},
   "outputs": [
    {
     "name": "stdout",
     "output_type": "stream",
     "text": [
      "<class '__main__.Person'>\n"
     ]
    }
   ],
   "source": [
    "print(type(p2))"
   ]
  },
  {
   "cell_type": "code",
   "execution_count": 12,
   "id": "e41781e0-1c29-42e9-8316-15e1736d4a33",
   "metadata": {},
   "outputs": [
    {
     "data": {
      "text/plain": [
       "__main__.Person"
      ]
     },
     "execution_count": 12,
     "metadata": {},
     "output_type": "execute_result"
    }
   ],
   "source": [
    "type(p2)"
   ]
  },
  {
   "cell_type": "markdown",
   "id": "6df59255-05c7-4512-9b2a-ff894a0d24cf",
   "metadata": {},
   "source": [
    "## Accessing object attributes"
   ]
  },
  {
   "cell_type": "code",
   "execution_count": 13,
   "id": "c1ba6e8b-1c93-4121-a50c-2fcb29601124",
   "metadata": {},
   "outputs": [
    {
     "name": "stdout",
     "output_type": "stream",
     "text": [
      "name: Toygar, birthyear: 1974, address: no info\n"
     ]
    }
   ],
   "source": [
    "print(f\"name: {p1.name}, birthyear: {p1.year}, address: {p1.address}\")"
   ]
  },
  {
   "cell_type": "code",
   "execution_count": 14,
   "id": "3cd3a571-e63c-42a7-8562-5097e5b624c8",
   "metadata": {},
   "outputs": [
    {
     "name": "stdout",
     "output_type": "stream",
     "text": [
      "name: Selçuk, birthyear: 1983, address: no info\n"
     ]
    }
   ],
   "source": [
    "print(f\"name: {p2.name}, birthyear: {p2.year}, address: {p2.address}\")"
   ]
  },
  {
   "cell_type": "code",
   "execution_count": 15,
   "id": "92e81237-e824-4288-992f-f0acbd9667a4",
   "metadata": {},
   "outputs": [
    {
     "name": "stdout",
     "output_type": "stream",
     "text": [
      "False\n"
     ]
    }
   ],
   "source": [
    "print(p1 == p2)"
   ]
  },
  {
   "cell_type": "code",
   "execution_count": 16,
   "id": "a16abc6f-6a00-4840-a32f-613322877f9f",
   "metadata": {},
   "outputs": [
    {
     "name": "stdout",
     "output_type": "stream",
     "text": [
      "__init__ metotu çalıştı!!!\n"
     ]
    }
   ],
   "source": [
    "p3 = Person( name = \"Sabriye\", year = 1994)"
   ]
  },
  {
   "cell_type": "code",
   "execution_count": 17,
   "id": "5248b1b5-ef6c-4b64-b47e-e789d1d114f9",
   "metadata": {},
   "outputs": [
    {
     "name": "stdout",
     "output_type": "stream",
     "text": [
      "<__main__.Person object at 0x0000024D74D6D310>\n"
     ]
    }
   ],
   "source": [
    "print(p3)"
   ]
  },
  {
   "cell_type": "code",
   "execution_count": 18,
   "id": "7a55bc4b-159b-40c6-be34-03bb6c0f1c1e",
   "metadata": {},
   "outputs": [
    {
     "name": "stdout",
     "output_type": "stream",
     "text": [
      "<class '__main__.Person'>\n"
     ]
    }
   ],
   "source": [
    "print(type(p3))"
   ]
  },
  {
   "cell_type": "code",
   "execution_count": 19,
   "id": "1eea3fa0-0900-4518-aed8-69cb97cbdd69",
   "metadata": {},
   "outputs": [
    {
     "data": {
      "text/plain": [
       "__main__.Person"
      ]
     },
     "execution_count": 19,
     "metadata": {},
     "output_type": "execute_result"
    }
   ],
   "source": [
    "type(p3)"
   ]
  },
  {
   "cell_type": "code",
   "execution_count": 20,
   "id": "18d58f50-d8cc-4437-b0e9-4b5452553870",
   "metadata": {},
   "outputs": [
    {
     "name": "stdout",
     "output_type": "stream",
     "text": [
      "name: Sabriye, birthyear: 1994, address: no info\n"
     ]
    }
   ],
   "source": [
    "print(f\"name: {p3.name}, birthyear: {p3.year}, address: {p3.address}\")"
   ]
  },
  {
   "cell_type": "code",
   "execution_count": 21,
   "id": "98b59029-ad7f-4e1f-baa1-53f953cbd4c0",
   "metadata": {},
   "outputs": [
    {
     "data": {
      "text/plain": [
       "'Toygar'"
      ]
     },
     "execution_count": 21,
     "metadata": {},
     "output_type": "execute_result"
    }
   ],
   "source": [
    "p1.name"
   ]
  },
  {
   "cell_type": "code",
   "execution_count": 22,
   "id": "7024d318-b1dd-417d-9eaf-fb90f925bee1",
   "metadata": {},
   "outputs": [
    {
     "data": {
      "text/plain": [
       "'Selçuk'"
      ]
     },
     "execution_count": 22,
     "metadata": {},
     "output_type": "execute_result"
    }
   ],
   "source": [
    "p2.name\n"
   ]
  },
  {
   "cell_type": "code",
   "execution_count": 23,
   "id": "08177b53-2f9a-4ec5-9014-cd591bff6a41",
   "metadata": {},
   "outputs": [
    {
     "data": {
      "text/plain": [
       "'Sabriye'"
      ]
     },
     "execution_count": 23,
     "metadata": {},
     "output_type": "execute_result"
    }
   ],
   "source": [
    "p3.name"
   ]
  },
  {
   "cell_type": "markdown",
   "id": "b1b10b99-f1ba-4bc6-9fe2-b46ee9012fcd",
   "metadata": {},
   "source": [
    "## updating"
   ]
  },
  {
   "cell_type": "code",
   "execution_count": 24,
   "id": "5aa7a5e4-1650-4b3e-8916-56c312576ea7",
   "metadata": {},
   "outputs": [
    {
     "data": {
      "text/plain": [
       "'Özdemir'"
      ]
     },
     "execution_count": 24,
     "metadata": {},
     "output_type": "execute_result"
    }
   ],
   "source": [
    "p1.name = \"Özdemir\"\n",
    "p1.name"
   ]
  },
  {
   "cell_type": "code",
   "execution_count": 25,
   "id": "18a630c1-1a76-4cb5-a698-333c90e7886e",
   "metadata": {},
   "outputs": [],
   "source": [
    "p1.year =  1946"
   ]
  },
  {
   "cell_type": "code",
   "execution_count": 26,
   "id": "0cb2a3c4-b7e9-4fe5-a4ff-c96b955e6fa5",
   "metadata": {},
   "outputs": [],
   "source": [
    "p1.address = \"İstanbul\""
   ]
  },
  {
   "cell_type": "code",
   "execution_count": 27,
   "id": "effbf854-c01d-47a1-9e07-4166907dc32e",
   "metadata": {},
   "outputs": [
    {
     "name": "stdout",
     "output_type": "stream",
     "text": [
      "name: Özdemir, birthyear: 1946, address: İstanbul\n"
     ]
    }
   ],
   "source": [
    "print(f\"name: {p1.name}, birthyear: {p1.year}, address: {p1.address}\")"
   ]
  },
  {
   "cell_type": "markdown",
   "id": "daaa2e7d-f138-4b6b-a8a9-fc0d3917331a",
   "metadata": {},
   "source": [
    "## call class methods"
   ]
  },
  {
   "cell_type": "code",
   "execution_count": 28,
   "id": "63fd8fcd-8773-4824-9739-82781063f730",
   "metadata": {},
   "outputs": [
    {
     "name": "stdout",
     "output_type": "stream",
     "text": [
      "Merhaba, ben Özdemir\n"
     ]
    }
   ],
   "source": [
    "p1.intro()"
   ]
  },
  {
   "cell_type": "code",
   "execution_count": 29,
   "id": "6d427844-78ab-4c88-b1c3-c5eb1c0b3828",
   "metadata": {},
   "outputs": [
    {
     "name": "stdout",
     "output_type": "stream",
     "text": [
      "Merhaba, ben Selçuk\n"
     ]
    }
   ],
   "source": [
    "p2.intro()"
   ]
  },
  {
   "cell_type": "code",
   "execution_count": 30,
   "id": "f8937260-8822-4042-b2b9-9da09cb0a542",
   "metadata": {},
   "outputs": [
    {
     "name": "stdout",
     "output_type": "stream",
     "text": [
      "Merhaba, ben Sabriye\n"
     ]
    }
   ],
   "source": [
    "p3.intro()"
   ]
  },
  {
   "cell_type": "code",
   "execution_count": 31,
   "id": "a2540ad7-6226-412c-8a44-51395000da81",
   "metadata": {},
   "outputs": [
    {
     "name": "stdout",
     "output_type": "stream",
     "text": [
      "adım : Özdemir ve yaşım: 78\n"
     ]
    }
   ],
   "source": [
    "print(f\"adım : {p1.name} ve yaşım: {p1.calculate_age()}\")"
   ]
  },
  {
   "cell_type": "code",
   "execution_count": 32,
   "id": "b662e494-224e-4416-9218-720532a4f1c0",
   "metadata": {},
   "outputs": [
    {
     "name": "stdout",
     "output_type": "stream",
     "text": [
      "adım : Selçuk ve yaşım: 41\n"
     ]
    }
   ],
   "source": [
    "print(f\"adım : {p2.name} ve yaşım: {p2.calculate_age()}\")"
   ]
  },
  {
   "cell_type": "code",
   "execution_count": 33,
   "id": "1ed178cf-1084-4170-b852-18979d433690",
   "metadata": {},
   "outputs": [
    {
     "name": "stdout",
     "output_type": "stream",
     "text": [
      "adım : Sabriye ve yaşım: 30\n"
     ]
    }
   ],
   "source": [
    "print(f\"adım : {p3.name} ve yaşım: {p3.calculate_age()}\")"
   ]
  },
  {
   "cell_type": "markdown",
   "id": "87171973-3a96-42da-9b97-cc7afc8a0bd7",
   "metadata": {},
   "source": [
    "Yeni bir class tanımlayalım:"
   ]
  },
  {
   "cell_type": "code",
   "execution_count": 34,
   "id": "dd08f99f-03a2-4fa4-9ad1-f5acd4a5a6d6",
   "metadata": {},
   "outputs": [],
   "source": [
    "class Circle:\n",
    "    \n",
    "    #♣object attribute\n",
    "    pi = 3.14\n",
    "\n",
    "    def __init__(self, radius = 1):\n",
    "        self.radius = radius\n",
    "\n",
    "    #methods\n",
    "    def cevre_hesapla(self):\n",
    "        return 2*self.pi*self.radius\n",
    "\n",
    "    def alan_hesapla(self):\n",
    "        return self.pi*(self.radius**2)"
   ]
  },
  {
   "cell_type": "markdown",
   "id": "8459df97-1ac4-494d-ad5f-571b8b9bad0d",
   "metadata": {},
   "source": [
    "object/instance oluştur"
   ]
  },
  {
   "cell_type": "code",
   "execution_count": 35,
   "id": "314e75f5-a1a2-4a41-bf12-e9ffe27e83a2",
   "metadata": {},
   "outputs": [],
   "source": [
    "c1 = Circle()"
   ]
  },
  {
   "cell_type": "code",
   "execution_count": 36,
   "id": "4d384ff8-756b-41f4-8252-6ef3cea6867c",
   "metadata": {},
   "outputs": [],
   "source": [
    "c2 = Circle(5)"
   ]
  },
  {
   "cell_type": "code",
   "execution_count": 37,
   "id": "8369c45b-a854-450a-bb43-f02ec5e495a3",
   "metadata": {},
   "outputs": [
    {
     "data": {
      "text/plain": [
       "6.28"
      ]
     },
     "execution_count": 37,
     "metadata": {},
     "output_type": "execute_result"
    }
   ],
   "source": [
    "c1.cevre_hesapla()"
   ]
  },
  {
   "cell_type": "code",
   "execution_count": 38,
   "id": "39905d23-817e-4240-8c8a-08333896b9f2",
   "metadata": {},
   "outputs": [
    {
     "data": {
      "text/plain": [
       "3.14"
      ]
     },
     "execution_count": 38,
     "metadata": {},
     "output_type": "execute_result"
    }
   ],
   "source": [
    "c1.alan_hesapla()"
   ]
  },
  {
   "cell_type": "code",
   "execution_count": 39,
   "id": "81a23e31-78d3-4505-8903-7bb8bc973e41",
   "metadata": {},
   "outputs": [
    {
     "name": "stdout",
     "output_type": "stream",
     "text": [
      "c1: alan = 3.14, cevre = 6.28\n"
     ]
    }
   ],
   "source": [
    "print(f\"c1: alan = {c1.alan_hesapla()}, cevre = {c1.cevre_hesapla()}\")"
   ]
  },
  {
   "cell_type": "code",
   "execution_count": 40,
   "id": "5488275d-9bfb-4322-ab87-5cdae2dd508e",
   "metadata": {},
   "outputs": [
    {
     "name": "stdout",
     "output_type": "stream",
     "text": [
      "c2: alan = 78.5, cevre = 31.400000000000002\n"
     ]
    }
   ],
   "source": [
    "print(f\"c2: alan = {c2.alan_hesapla()}, cevre = {c2.cevre_hesapla()}\")"
   ]
  },
  {
   "cell_type": "markdown",
   "id": "363e06cf-1779-4e7c-b250-cef07acbc2c6",
   "metadata": {},
   "source": [
    "## Inheritance"
   ]
  },
  {
   "cell_type": "markdown",
   "id": "4b11efa6-827c-4718-a1fa-13a1d31fe5cd",
   "metadata": {},
   "source": [
    "### \n",
    "Inheritance ( Kalıtım ) : Miras ALma"
   ]
  },
  {
   "cell_type": "markdown",
   "id": "c65a8868-c046-41dc-b88e-8fc7c0e4b4f2",
   "metadata": {},
   "source": [
    "### Person => name, lastname, age , age, eat(), run(), drink(), fuck(), rock()"
   ]
  },
  {
   "cell_type": "markdown",
   "id": "4b7fb6f5-e2f2-410a-868e-14200dc63870",
   "metadata": {},
   "source": [
    "> ### Peduwan(Person), Jedi(Person)  "
   ]
  },
  {
   "cell_type": "markdown",
   "id": "145ef1fc-6233-420b-8675-d78b71b35613",
   "metadata": {},
   "source": [
    "> ### Animal => Dog(Animal), Cat(Animal)"
   ]
  },
  {
   "cell_type": "code",
   "execution_count": 41,
   "id": "5e1cd46c-d895-438c-bfaa-db90165b95a8",
   "metadata": {},
   "outputs": [],
   "source": [
    "class Person():\n",
    "    def __init__(self, fname, lname):\n",
    "        \n",
    "        self.firstname = fname\n",
    "        self.lastname = lname\n",
    "        print(\"Person Created!!!\")\n",
    "        \n",
    "        \n",
    "    def ben_kimim(self):\n",
    "        print(\"I am a person\")\n",
    "        \n",
    "    def eat(self):\n",
    "        print(\"I am eating\")"
   ]
  },
  {
   "cell_type": "code",
   "execution_count": 42,
   "id": "3d57e105-9469-4f21-86f7-e304c5129258",
   "metadata": {},
   "outputs": [],
   "source": [
    "class Padawan(Person): #person classına sahip olan özelliklere student classıda sahip olmuş oluyor\n",
    "    def __init__(self, fname, lname, number):\n",
    "        Person.__init__(self, fname, lname)\n",
    "        self.padawanNumber = number\n",
    "        print(\"Padawan Created!!!\")\n",
    "        \n",
    "    \n",
    "        \n",
    "    \n",
    "    #override\n",
    "    def ben_kimim(self): #person ben_kimim metotunu ezmek için\n",
    "        print(\"I am a Padawan\")\n",
    "\n",
    "    def sayHello(self):\n",
    "        print(\"Hello, I am a Padawan\") #sadece student üzerinden çağırabiliriz, Persona özgün olan bir metot değil"
   ]
  },
  {
   "cell_type": "code",
   "execution_count": 43,
   "id": "b6f9b5c3-0db6-423f-8bca-335149cf8a88",
   "metadata": {},
   "outputs": [],
   "source": [
    "class Jedi(Person):\n",
    "    def __init__(self, fname, lname, skill ):\n",
    "        super(). __init__(fname,lname)\n",
    "        self.skill  = skill \n",
    "        print(\"Jedi Created!!!\")\n",
    "        \n",
    "    def ben_kimim(self):\n",
    "        print(f\"I am a Jedi {self.skill}\")"
   ]
  },
  {
   "cell_type": "markdown",
   "id": "4b6c0212-cbc5-4c47-af41-4c6c1a2c86af",
   "metadata": {},
   "source": [
    "> object,instances"
   ]
  },
  {
   "cell_type": "code",
   "execution_count": 44,
   "id": "62e686b5-1add-4cd5-a9c2-3a59cf73a47c",
   "metadata": {},
   "outputs": [
    {
     "name": "stdout",
     "output_type": "stream",
     "text": [
      "Person Created!!!\n"
     ]
    }
   ],
   "source": [
    "p1 = Person(\"Toygar\", \"Par\")"
   ]
  },
  {
   "cell_type": "code",
   "execution_count": 45,
   "id": "43858e58-5b85-4278-862c-f3b7747daaeb",
   "metadata": {},
   "outputs": [
    {
     "name": "stdout",
     "output_type": "stream",
     "text": [
      "Person Created!!!\n",
      "Padawan Created!!!\n"
     ]
    }
   ],
   "source": [
    "pad = Padawan(\"Anakin\", \"Skywalker\", 1453)"
   ]
  },
  {
   "cell_type": "markdown",
   "id": "efc00bbc-a1d7-4e4c-afbf-c241303756ac",
   "metadata": {},
   "source": [
    "Padawanda bir Person olduğundan Person init metotu da çalıştı."
   ]
  },
  {
   "cell_type": "code",
   "execution_count": 46,
   "id": "11f0e4fd-95b8-47d9-b134-de5f103f453b",
   "metadata": {},
   "outputs": [
    {
     "name": "stdout",
     "output_type": "stream",
     "text": [
      "Person Created!!!\n",
      "Jedi Created!!!\n"
     ]
    }
   ],
   "source": [
    "jed = Jedi( \"Obi Wan\", \"Kanobi\", \"Master\")"
   ]
  },
  {
   "cell_type": "markdown",
   "id": "4ada6c98-922b-41bd-91fb-9f14b2765032",
   "metadata": {},
   "source": [
    "> object attributes'a erişim"
   ]
  },
  {
   "cell_type": "code",
   "execution_count": 47,
   "id": "f652effb-cc15-4224-bb21-67d9a82485d4",
   "metadata": {},
   "outputs": [
    {
     "name": "stdout",
     "output_type": "stream",
     "text": [
      "Toygar Par\n"
     ]
    }
   ],
   "source": [
    "print(p1.firstname + \" \" + p1.lastname)"
   ]
  },
  {
   "cell_type": "code",
   "execution_count": 48,
   "id": "71e1da41-0bbe-452b-92ed-1174cfe0d4af",
   "metadata": {},
   "outputs": [
    {
     "name": "stdout",
     "output_type": "stream",
     "text": [
      "Anakin Skywalker 1453\n"
     ]
    }
   ],
   "source": [
    "print(pad.firstname + \" \" + pad.lastname + \" \" + str(pad.padawanNumber))"
   ]
  },
  {
   "cell_type": "code",
   "execution_count": 49,
   "id": "c5e3988f-dfea-41d5-af43-189a0414be1b",
   "metadata": {},
   "outputs": [
    {
     "name": "stdout",
     "output_type": "stream",
     "text": [
      "Obi Wan Kanobi, Master Jedi\n"
     ]
    }
   ],
   "source": [
    "print(jed.firstname + \" \" + jed.lastname + \", \" + jed.skill + \" Jedi\")"
   ]
  },
  {
   "cell_type": "code",
   "execution_count": null,
   "id": "f1ba20ca-36b3-42eb-814e-d393c70d722a",
   "metadata": {},
   "outputs": [],
   "source": []
  },
  {
   "cell_type": "markdown",
   "id": "d6ff1e7b-30fd-46eb-9c65-fb5ea0a74704",
   "metadata": {},
   "source": [
    "> class call metotları"
   ]
  },
  {
   "cell_type": "code",
   "execution_count": 50,
   "id": "5a29e916-992b-4e90-92ed-6c5a489fcb28",
   "metadata": {},
   "outputs": [
    {
     "name": "stdout",
     "output_type": "stream",
     "text": [
      "I am a person\n"
     ]
    }
   ],
   "source": [
    "p1.ben_kimim()"
   ]
  },
  {
   "cell_type": "code",
   "execution_count": 51,
   "id": "0151fe5a-7081-4ad4-9152-60058fb7f25b",
   "metadata": {},
   "outputs": [
    {
     "name": "stdout",
     "output_type": "stream",
     "text": [
      "I am a Padawan\n"
     ]
    }
   ],
   "source": [
    "pad.ben_kimim()"
   ]
  },
  {
   "cell_type": "code",
   "execution_count": 52,
   "id": "0135d27b-b44b-469a-8584-570dbfe8f57b",
   "metadata": {},
   "outputs": [
    {
     "name": "stdout",
     "output_type": "stream",
     "text": [
      "I am a Jedi Master\n"
     ]
    }
   ],
   "source": [
    "jed.ben_kimim()"
   ]
  },
  {
   "cell_type": "code",
   "execution_count": 53,
   "id": "e8208907-6dd6-47fd-b282-ce8a50267e2f",
   "metadata": {},
   "outputs": [
    {
     "name": "stdout",
     "output_type": "stream",
     "text": [
      "Hello, I am a Padawan\n"
     ]
    }
   ],
   "source": [
    "pad.sayHello()"
   ]
  },
  {
   "cell_type": "markdown",
   "id": "f2c710b5-9a02-449d-8896-6d28db768996",
   "metadata": {},
   "source": [
    "## Special Methods "
   ]
  },
  {
   "cell_type": "code",
   "execution_count": 1,
   "id": "1524b5f7-2e9b-46cf-ad35-c547c0af9742",
   "metadata": {},
   "outputs": [],
   "source": [
    "listem = [1, 2, 3]"
   ]
  },
  {
   "cell_type": "code",
   "execution_count": 2,
   "id": "c9c2e00f-8933-4657-a879-b4ca202d4f46",
   "metadata": {},
   "outputs": [
    {
     "data": {
      "text/plain": [
       "[1, 2, 3]"
      ]
     },
     "execution_count": 2,
     "metadata": {},
     "output_type": "execute_result"
    }
   ],
   "source": [
    "listem"
   ]
  },
  {
   "cell_type": "code",
   "execution_count": 3,
   "id": "92f9bc72-80e4-4eb5-8dde-557a5292f2f0",
   "metadata": {},
   "outputs": [
    {
     "name": "stdout",
     "output_type": "stream",
     "text": [
      "3\n"
     ]
    }
   ],
   "source": [
    "print(len(listem))"
   ]
  },
  {
   "cell_type": "code",
   "execution_count": 4,
   "id": "f54e2cd5-fc34-437b-83ea-f0a462a9d2a6",
   "metadata": {},
   "outputs": [],
   "source": [
    "mystring = \"My String\""
   ]
  },
  {
   "cell_type": "code",
   "execution_count": 5,
   "id": "7897fa7e-93d3-4956-98c2-01a144f906a6",
   "metadata": {},
   "outputs": [
    {
     "name": "stdout",
     "output_type": "stream",
     "text": [
      "9\n"
     ]
    }
   ],
   "source": [
    "print(len(mystring))"
   ]
  },
  {
   "cell_type": "code",
   "execution_count": 6,
   "id": "fe0b0ff5-f446-4e6e-8789-4073e16e9502",
   "metadata": {},
   "outputs": [
    {
     "name": "stdout",
     "output_type": "stream",
     "text": [
      "<class 'list'>\n"
     ]
    }
   ],
   "source": [
    "print(type(listem))"
   ]
  },
  {
   "cell_type": "code",
   "execution_count": 7,
   "id": "f4fd8d60-1f58-42c0-a8ea-62027f4623ce",
   "metadata": {},
   "outputs": [
    {
     "name": "stdout",
     "output_type": "stream",
     "text": [
      "<class 'str'>\n"
     ]
    }
   ],
   "source": [
    "print(type(mystring))"
   ]
  },
  {
   "cell_type": "code",
   "execution_count": 8,
   "id": "855e40ee-9e81-48ce-931c-8b6990e84089",
   "metadata": {},
   "outputs": [],
   "source": [
    "class Movie():\n",
    "    def __init__(self, title, director, duration):\n",
    "        self.title = title\n",
    "        self.director = director\n",
    "        self.duration = duration\n",
    "        print(\"Movie Objesi oluşturuldu\")\n",
    "        \n",
    "    def __str__(self):\n",
    "        return f\"{self.title} by {self.director}\"\n",
    "    \n",
    "    def __len__(self):\n",
    "        return self.duration\n",
    "    \n",
    "    def __del__(self):\n",
    "        print(\"Movie silindi\")"
   ]
  },
  {
   "cell_type": "code",
   "execution_count": 9,
   "id": "fd014e85-9308-4967-867b-a759722e7b9e",
   "metadata": {},
   "outputs": [
    {
     "name": "stdout",
     "output_type": "stream",
     "text": [
      "Movie Objesi oluşturuldu\n"
     ]
    }
   ],
   "source": [
    "m = Movie(\"Jaws\", \"Steven Spielberg\", 129)"
   ]
  },
  {
   "cell_type": "code",
   "execution_count": 11,
   "id": "c53ffb19-be10-46b6-ae9e-c28bee056aa0",
   "metadata": {},
   "outputs": [
    {
     "name": "stdout",
     "output_type": "stream",
     "text": [
      "129\n"
     ]
    }
   ],
   "source": [
    "print(len(m))"
   ]
  },
  {
   "cell_type": "code",
   "execution_count": 12,
   "id": "9221d419-3bcf-4b56-b385-cd9b9bc4b279",
   "metadata": {},
   "outputs": [
    {
     "name": "stdout",
     "output_type": "stream",
     "text": [
      "<class '__main__.Movie'>\n"
     ]
    }
   ],
   "source": [
    "print(type(m))"
   ]
  },
  {
   "cell_type": "code",
   "execution_count": 13,
   "id": "dea5e550-ed95-459c-9beb-df19edb1a72f",
   "metadata": {},
   "outputs": [
    {
     "name": "stdout",
     "output_type": "stream",
     "text": [
      "[1, 2, 3]\n"
     ]
    }
   ],
   "source": [
    "print(listem)"
   ]
  },
  {
   "cell_type": "code",
   "execution_count": 14,
   "id": "04900be9-37e3-4096-b69f-9267ffa6abaa",
   "metadata": {},
   "outputs": [
    {
     "name": "stdout",
     "output_type": "stream",
     "text": [
      "Jaws by Steven Spielberg\n"
     ]
    }
   ],
   "source": [
    "print(m)"
   ]
  },
  {
   "cell_type": "code",
   "execution_count": 15,
   "id": "c5505033-a9c5-4768-bc9e-6672aca9f9c6",
   "metadata": {},
   "outputs": [
    {
     "name": "stdout",
     "output_type": "stream",
     "text": [
      "[1, 2, 3]\n"
     ]
    }
   ],
   "source": [
    "print(str(listem))"
   ]
  },
  {
   "cell_type": "code",
   "execution_count": 16,
   "id": "97c5ecbf-d705-492c-b8d0-641070588103",
   "metadata": {},
   "outputs": [
    {
     "name": "stdout",
     "output_type": "stream",
     "text": [
      "Jaws by Steven Spielberg\n"
     ]
    }
   ],
   "source": [
    "print(str(m))"
   ]
  },
  {
   "cell_type": "code",
   "execution_count": 17,
   "id": "529ca9e0-e42f-47a2-961f-a2f05e594323",
   "metadata": {},
   "outputs": [
    {
     "name": "stdout",
     "output_type": "stream",
     "text": [
      "3\n"
     ]
    }
   ],
   "source": [
    "print(len(listem))"
   ]
  },
  {
   "cell_type": "code",
   "execution_count": 18,
   "id": "2270c45c-fc49-499f-8de1-a93aab0ec59e",
   "metadata": {},
   "outputs": [
    {
     "name": "stdout",
     "output_type": "stream",
     "text": [
      "129\n"
     ]
    }
   ],
   "source": [
    "print(len(m))"
   ]
  },
  {
   "cell_type": "code",
   "execution_count": 19,
   "id": "43b1d4c2-be10-41d0-92b1-85be582bbb43",
   "metadata": {},
   "outputs": [
    {
     "name": "stdout",
     "output_type": "stream",
     "text": [
      "Movie silindi\n"
     ]
    }
   ],
   "source": [
    "del m"
   ]
  },
  {
   "cell_type": "code",
   "execution_count": 21,
   "id": "dac62b41-47ec-4ea2-9db1-e958c71977ba",
   "metadata": {},
   "outputs": [],
   "source": [
    "#print(m)\n"
   ]
  },
  {
   "cell_type": "code",
   "execution_count": null,
   "id": "dab31449-b474-4b1a-bf3b-61780a002011",
   "metadata": {},
   "outputs": [],
   "source": []
  }
 ],
 "metadata": {
  "kernelspec": {
   "display_name": "Python 3 (ipykernel)",
   "language": "python",
   "name": "python3"
  },
  "language_info": {
   "codemirror_mode": {
    "name": "ipython",
    "version": 3
   },
   "file_extension": ".py",
   "mimetype": "text/x-python",
   "name": "python",
   "nbconvert_exporter": "python",
   "pygments_lexer": "ipython3",
   "version": "3.11.5"
  }
 },
 "nbformat": 4,
 "nbformat_minor": 5
}
