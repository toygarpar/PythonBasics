{
 "cells": [
  {
   "cell_type": "markdown",
   "id": "abc70a96-371a-4ca6-926d-5ef4cf6d6eed",
   "metadata": {},
   "source": [
    "# BeautifulSoup"
   ]
  },
  {
   "cell_type": "markdown",
   "id": "3d9ce6ae-5700-4bb4-910a-8cd3ece80485",
   "metadata": {},
   "source": [
    "Örnek bir html sayfasını sıfırdan yapalım ve html değişkenine atayalım:"
   ]
  },
  {
   "cell_type": "code",
   "execution_count": 10,
   "id": "3e73fd7b-341f-4c4b-8a53-4f9e9a25a6ec",
   "metadata": {},
   "outputs": [],
   "source": [
    "html_doc = \"\"\"\n",
    "\n",
    "<!DOCTYPE html>\n",
    "<html lang=\"en\">\n",
    "<head>\n",
    "<meta charset=\"UTF-8\">\n",
    "    <meta name=\"viewport\" content=\"width=device-width, initial-scale=1.0\">\n",
    "    <title>İlk Web Sayfası</title>\n",
    "</head>\n",
    "<body>\n",
    "<h1 id =\"header\">\n",
    "        Python Kursu\n",
    "\n",
    "    </h1>\n",
    "        <div class=\"grup1\">\n",
    "            <h2>Programlama</h2>\n",
    "            \n",
    "            <ul>\n",
    "                <li>Menu 1    </li>\n",
    "                <li>Menu 2    </li>\n",
    "                <li>Menu 3    </li>\n",
    "            </ul>\n",
    "        </div>\n",
    "\n",
    "        <div class=\"grup2\">\n",
    "            <h2>Modüller</h2>\n",
    "            \n",
    "            <ul>\n",
    "                <li>Menu 1    </li>\n",
    "                <li>Menu 2    </li>\n",
    "                <li>Menu 3    </li>\n",
    "            </ul>\n",
    "        </div>\n",
    "        \n",
    "        <div class=\"grup3\">\n",
    "           <h2>Django</h2>\n",
    "           \n",
    "           <ul>\n",
    "               <li>Menu 1    </li>\n",
    "               <li>Menu 2    </li>\n",
    "               <li>Menu 3    </li>\n",
    "           </ul>\n",
    "       </div>\n",
    "\n",
    "        <img src=\"deneme.jpg\" alt=\"\">\n",
    "        \n",
    "        <a class=\"sister\" href=\"http://example1.com/togy1\" id=\"link1\">Togy1</a>\n",
    "        <a class=\"sister\" href=\"http://example2.com/togy2\" id=\"link2\">Togy2</a>\n",
    "        <a class=\"sister\" href=\"http://example3.com/togy3\" id=\"link3\">Togy3</a>\n",
    "</body>\n",
    "</html>\n",
    "\n",
    "\"\"\"\n"
   ]
  },
  {
   "cell_type": "code",
   "execution_count": 11,
   "id": "e38de92d-8a01-457c-b7ca-6e10e2046f4c",
   "metadata": {},
   "outputs": [],
   "source": [
    "from bs4 import BeautifulSoup\n"
   ]
  },
  {
   "cell_type": "code",
   "execution_count": 12,
   "id": "54b3d52c-b2d6-4087-b124-3cfa6ad50d90",
   "metadata": {},
   "outputs": [],
   "source": [
    "soup = BeautifulSoup(html_doc, \"html.parser\") # ayrıştırmak istediğimiz obje vebs html ayrıştırıcısı param olarak veriyoruz."
   ]
  },
  {
   "cell_type": "code",
   "execution_count": 13,
   "id": "67517fb5-be6a-4615-b1b4-41af0bad1005",
   "metadata": {},
   "outputs": [],
   "source": [
    "#html'yi düzeltir, düzenler, güzelleştirir.\n",
    "result = soup.prettify()"
   ]
  },
  {
   "cell_type": "code",
   "execution_count": 14,
   "id": "9a7453db-0dc3-44f4-a8b8-e890d404785f",
   "metadata": {},
   "outputs": [],
   "source": [
    "result = soup.title  # title tagine ulaşmak için"
   ]
  },
  {
   "cell_type": "code",
   "execution_count": 15,
   "id": "d927e567-18cd-4393-a98a-bda140bcb00a",
   "metadata": {},
   "outputs": [
    {
     "data": {
      "text/plain": [
       "<title>İlk Web Sayfası</title>"
      ]
     },
     "execution_count": 15,
     "metadata": {},
     "output_type": "execute_result"
    }
   ],
   "source": [
    "result"
   ]
  },
  {
   "cell_type": "code",
   "execution_count": 16,
   "id": "d86b5255-cef9-48e4-8ab5-c822b023ca5a",
   "metadata": {},
   "outputs": [
    {
     "name": "stdout",
     "output_type": "stream",
     "text": [
      "<head>\n",
      "<meta charset=\"utf-8\"/>\n",
      "<meta content=\"width=device-width, initial-scale=1.0\" name=\"viewport\"/>\n",
      "<title>İlk Web Sayfası</title>\n",
      "</head>\n"
     ]
    }
   ],
   "source": [
    "result1 = soup.head\n",
    "print(result1)"
   ]
  },
  {
   "cell_type": "code",
   "execution_count": 18,
   "id": "ec47044e-ef3f-43ab-96a3-3d1cd65d406e",
   "metadata": {},
   "outputs": [
    {
     "name": "stdout",
     "output_type": "stream",
     "text": [
      "<body>\n",
      "<h1 id=\"header\">\n",
      "        Python Kursu\n",
      "\n",
      "    </h1>\n",
      "<div class=\"grup1\">\n",
      "<h2>Programlama</h2>\n",
      "<ul>\n",
      "<li>Menu 1    </li>\n",
      "<li>Menu 2    </li>\n",
      "<li>Menu 3    </li>\n",
      "</ul>\n",
      "</div>\n",
      "<div class=\"grup2\">\n",
      "<h2>Modüller</h2>\n",
      "<ul>\n",
      "<li>Menu 1    </li>\n",
      "<li>Menu 2    </li>\n",
      "<li>Menu 3    </li>\n",
      "</ul>\n",
      "</div>\n",
      "<div class=\"grup3\">\n",
      "<h2>Django</h2>\n",
      "<ul>\n",
      "<li>Menu 1    </li>\n",
      "<li>Menu 2    </li>\n",
      "<li>Menu 3    </li>\n",
      "</ul>\n",
      "</div>\n",
      "<img alt=\"\" src=\"deneme.jpg\"/>\n",
      "<a class=\"sister\" href=\"http://example1.com/togy1\" id=\"link1\">Togy1</a>\n",
      "<a class=\"sister\" href=\"http://example2.com/togy2\" id=\"link2\">Togy2</a>\n",
      "<a class=\"sister\" href=\"http://example3.com/togy3\" id=\"link3\">Togy3</a>\n",
      "</body>\n"
     ]
    }
   ],
   "source": [
    "result2 = soup.body #html body'e ulaşmak için\n",
    "print(result2)"
   ]
  },
  {
   "cell_type": "code",
   "execution_count": 19,
   "id": "f5c52796-34ad-4f66-b08e-357fc6587957",
   "metadata": {},
   "outputs": [
    {
     "name": "stdout",
     "output_type": "stream",
     "text": [
      "title\n"
     ]
    }
   ],
   "source": [
    "res1 = soup.title.name\n",
    "print(res1)"
   ]
  },
  {
   "cell_type": "code",
   "execution_count": 20,
   "id": "d2744edd-638a-4e38-8a9b-aecf45030ae4",
   "metadata": {},
   "outputs": [
    {
     "name": "stdout",
     "output_type": "stream",
     "text": [
      "İlk Web Sayfası\n"
     ]
    }
   ],
   "source": [
    "res2 =  soup.title.string\n",
    "print(res2)"
   ]
  },
  {
   "cell_type": "code",
   "execution_count": 21,
   "id": "a0ecba69-5afc-4d13-95f4-5f97d408b655",
   "metadata": {},
   "outputs": [
    {
     "name": "stdout",
     "output_type": "stream",
     "text": [
      "İlk Web Sayfası\n"
     ]
    }
   ],
   "source": [
    "res222 = soup.title.text\n",
    "print(res222)"
   ]
  },
  {
   "cell_type": "code",
   "execution_count": 22,
   "id": "4af27c6d-b6a1-44ab-a066-9a7350948b05",
   "metadata": {},
   "outputs": [
    {
     "name": "stdout",
     "output_type": "stream",
     "text": [
      "<h1 id=\"header\">\n",
      "        Python Kursu\n",
      "\n",
      "    </h1>\n"
     ]
    }
   ],
   "source": [
    "res3 = soup.h1\n",
    "print(res3)"
   ]
  },
  {
   "cell_type": "code",
   "execution_count": 23,
   "id": "586dadf4-17cb-4d4c-98c4-d8c4766ab995",
   "metadata": {},
   "outputs": [
    {
     "name": "stdout",
     "output_type": "stream",
     "text": [
      "h2\n"
     ]
    }
   ],
   "source": [
    "res4 = soup.h2.name\n",
    "print(res4)"
   ]
  },
  {
   "cell_type": "code",
   "execution_count": 24,
   "id": "2597b6e3-9e00-40e4-bd6c-4c7acea354ab",
   "metadata": {},
   "outputs": [
    {
     "name": "stdout",
     "output_type": "stream",
     "text": [
      "Programlama\n"
     ]
    }
   ],
   "source": [
    "res5 = soup.h2.string\n",
    "print(res5)"
   ]
  },
  {
   "cell_type": "code",
   "execution_count": 25,
   "id": "3805f93a-a277-47a2-8c9b-bd52110c4bf1",
   "metadata": {},
   "outputs": [
    {
     "name": "stdout",
     "output_type": "stream",
     "text": [
      "[<h2>Programlama</h2>, <h2>Modüller</h2>, <h2>Django</h2>]\n"
     ]
    }
   ],
   "source": [
    "res6 = soup.find_all(\"h2\")\n",
    "print(res6)\n"
   ]
  },
  {
   "cell_type": "code",
   "execution_count": 26,
   "id": "26758047-8684-4cf6-a2d1-da6a4acd1fb9",
   "metadata": {},
   "outputs": [
    {
     "name": "stdout",
     "output_type": "stream",
     "text": [
      "<h2>Programlama</h2>\n"
     ]
    }
   ],
   "source": [
    "res7 = soup.find_all(\"h2\")[0] # sıfırıncı indexteki elemanı almak istesem\n",
    "print(res7)"
   ]
  },
  {
   "cell_type": "code",
   "execution_count": 27,
   "id": "d431ec7b-66e7-4ea0-8424-62fb8ca03620",
   "metadata": {},
   "outputs": [
    {
     "name": "stdout",
     "output_type": "stream",
     "text": [
      "<h2>Modüller</h2>\n"
     ]
    }
   ],
   "source": [
    "res8 = soup.find_all(\"h2\")[1]\n",
    "print(res8)"
   ]
  },
  {
   "cell_type": "code",
   "execution_count": 28,
   "id": "1e1e4c6c-9ae0-4057-b84f-7f21ad18dddb",
   "metadata": {},
   "outputs": [
    {
     "name": "stdout",
     "output_type": "stream",
     "text": [
      "<h2>Django</h2>\n"
     ]
    }
   ],
   "source": [
    "res888 = soup.find_all(\"h2\")[2]\n",
    "print(res888)"
   ]
  },
  {
   "cell_type": "code",
   "execution_count": 29,
   "id": "e913b8cb-3233-4123-9ad5-a97e0dc45b61",
   "metadata": {},
   "outputs": [
    {
     "name": "stdout",
     "output_type": "stream",
     "text": [
      "<div class=\"grup1\">\n",
      "<h2>Programlama</h2>\n",
      "<ul>\n",
      "<li>Menu 1    </li>\n",
      "<li>Menu 2    </li>\n",
      "<li>Menu 3    </li>\n",
      "</ul>\n",
      "</div>\n"
     ]
    }
   ],
   "source": [
    "res9 = soup.div #○ilk divi bulur\n",
    "print(res9)"
   ]
  },
  {
   "cell_type": "code",
   "execution_count": 30,
   "id": "977f1583-67f7-4e42-9415-c8bbe8ab8423",
   "metadata": {},
   "outputs": [
    {
     "name": "stdout",
     "output_type": "stream",
     "text": [
      "[<div class=\"grup1\">\n",
      "<h2>Programlama</h2>\n",
      "<ul>\n",
      "<li>Menu 1    </li>\n",
      "<li>Menu 2    </li>\n",
      "<li>Menu 3    </li>\n",
      "</ul>\n",
      "</div>, <div class=\"grup2\">\n",
      "<h2>Modüller</h2>\n",
      "<ul>\n",
      "<li>Menu 1    </li>\n",
      "<li>Menu 2    </li>\n",
      "<li>Menu 3    </li>\n",
      "</ul>\n",
      "</div>, <div class=\"grup3\">\n",
      "<h2>Django</h2>\n",
      "<ul>\n",
      "<li>Menu 1    </li>\n",
      "<li>Menu 2    </li>\n",
      "<li>Menu 3    </li>\n",
      "</ul>\n",
      "</div>]\n"
     ]
    }
   ],
   "source": [
    "res10 = soup.find_all(\"div\") #bütün divlere erişim\n",
    "print(res10)"
   ]
  },
  {
   "cell_type": "code",
   "execution_count": 31,
   "id": "d9b5a2cd-ed11-4f58-b5ca-3ec2ceda0224",
   "metadata": {},
   "outputs": [
    {
     "name": "stdout",
     "output_type": "stream",
     "text": [
      "<div class=\"grup2\">\n",
      "<h2>Modüller</h2>\n",
      "<ul>\n",
      "<li>Menu 1    </li>\n",
      "<li>Menu 2    </li>\n",
      "<li>Menu 3    </li>\n",
      "</ul>\n",
      "</div>\n"
     ]
    }
   ],
   "source": [
    "res11 = soup.find_all(\"div\")[1]\n",
    "print(res11)"
   ]
  },
  {
   "cell_type": "code",
   "execution_count": 32,
   "id": "18daf289-8e51-4232-ab8b-7cf72aef18c5",
   "metadata": {},
   "outputs": [
    {
     "name": "stdout",
     "output_type": "stream",
     "text": [
      "<ul>\n",
      "<li>Menu 1    </li>\n",
      "<li>Menu 2    </li>\n",
      "<li>Menu 3    </li>\n",
      "</ul>\n"
     ]
    }
   ],
   "source": [
    "res12 = soup.find_all(\"div\")[1].ul  #divin alt etiketi ul'e erişim için\n",
    "print(res12)"
   ]
  },
  {
   "cell_type": "code",
   "execution_count": 33,
   "id": "a3e77511-afae-4fe3-9e7c-cf295d4bccc2",
   "metadata": {},
   "outputs": [
    {
     "name": "stdout",
     "output_type": "stream",
     "text": [
      "<li>Menu 1    </li>\n"
     ]
    }
   ],
   "source": [
    "res13 = soup.find_all(\"div\")[1].ul.li #ul etiketinin içerisindeki li'ye ulaşmak\n",
    "print(res13)"
   ]
  },
  {
   "cell_type": "code",
   "execution_count": 34,
   "id": "e3a18bdc-7ff4-4465-a3a3-de5e5d0cbd4a",
   "metadata": {},
   "outputs": [
    {
     "name": "stdout",
     "output_type": "stream",
     "text": [
      "[<li>Menu 1    </li>, <li>Menu 2    </li>, <li>Menu 3    </li>]\n"
     ]
    }
   ],
   "source": [
    "res14 = soup.find_all(\"div\")[1].ul.find_all(\"li\")  #bütünli'lere erişim\n",
    "print(res14)"
   ]
  },
  {
   "cell_type": "code",
   "execution_count": 35,
   "id": "342aef3b-3620-4fbb-86af-9a3beaebcd82",
   "metadata": {},
   "outputs": [
    {
     "name": "stdout",
     "output_type": "stream",
     "text": [
      "[<h2>Programlama</h2>, <ul>\n",
      "<li>Menu 1    </li>\n",
      "<li>Menu 2    </li>\n",
      "<li>Menu 3    </li>\n",
      "</ul>, <li>Menu 1    </li>, <li>Menu 2    </li>, <li>Menu 3    </li>]\n"
     ]
    }
   ],
   "source": [
    "#findChildren\n",
    "res15 = soup.div.findChildren() #bütün elemanlar gelsin istiyorsak\n",
    "print(res15)"
   ]
  },
  {
   "cell_type": "code",
   "execution_count": 36,
   "id": "f85deae2-6494-4257-8850-580cbfaedc88",
   "metadata": {},
   "outputs": [
    {
     "name": "stdout",
     "output_type": "stream",
     "text": [
      "<div class=\"grup2\">\n",
      "<h2>Modüller</h2>\n",
      "<ul>\n",
      "<li>Menu 1    </li>\n",
      "<li>Menu 2    </li>\n",
      "<li>Menu 3    </li>\n",
      "</ul>\n",
      "</div>\n"
     ]
    }
   ],
   "source": [
    "res16 = soup.div.findNextSibling() #bir sonraki sibling divi bulur\n",
    "print(res16)"
   ]
  },
  {
   "cell_type": "code",
   "execution_count": 37,
   "id": "e479b45f-f76e-4341-b2b5-812f48a56b9c",
   "metadata": {},
   "outputs": [
    {
     "name": "stdout",
     "output_type": "stream",
     "text": [
      "<div class=\"grup3\">\n",
      "<h2>Django</h2>\n",
      "<ul>\n",
      "<li>Menu 1    </li>\n",
      "<li>Menu 2    </li>\n",
      "<li>Menu 3    </li>\n",
      "</ul>\n",
      "</div>\n"
     ]
    }
   ],
   "source": [
    "res17 = soup.div.findNextSibling().findNextSibling() #bir sonrakinin sonraki sibling divini bulur\n",
    "print(res17)"
   ]
  },
  {
   "cell_type": "code",
   "execution_count": 38,
   "id": "d81b02ec-32e7-40f9-8280-0e6c3c2f7c95",
   "metadata": {},
   "outputs": [
    {
     "name": "stdout",
     "output_type": "stream",
     "text": [
      "<div class=\"grup2\">\n",
      "<h2>Modüller</h2>\n",
      "<ul>\n",
      "<li>Menu 1    </li>\n",
      "<li>Menu 2    </li>\n",
      "<li>Menu 3    </li>\n",
      "</ul>\n",
      "</div>\n"
     ]
    }
   ],
   "source": [
    "res18 = soup.div.findNextSibling().findNextSibling().findPreviousSibling() #bir sonrakinin sonrasındakinin önceki sibling divini bulur\n",
    "print(res18)\n"
   ]
  },
  {
   "cell_type": "code",
   "execution_count": 39,
   "id": "5c264a30-e029-4a5f-b2d7-98629ab60417",
   "metadata": {},
   "outputs": [
    {
     "name": "stdout",
     "output_type": "stream",
     "text": [
      "[<a class=\"sister\" href=\"http://example1.com/togy1\" id=\"link1\">Togy1</a>, <a class=\"sister\" href=\"http://example2.com/togy2\" id=\"link2\">Togy2</a>, <a class=\"sister\" href=\"http://example3.com/togy3\" id=\"link3\">Togy3</a>]\n"
     ]
    }
   ],
   "source": [
    "res19 = soup.find_all(\"a\")\n",
    "print(res19)"
   ]
  },
  {
   "cell_type": "code",
   "execution_count": 40,
   "id": "21962524-d9e5-4a2f-8ae4-da57d0e3aeda",
   "metadata": {},
   "outputs": [
    {
     "name": "stdout",
     "output_type": "stream",
     "text": [
      "<a class=\"sister\" href=\"http://example1.com/togy1\" id=\"link1\">Togy1</a>\n",
      "<a class=\"sister\" href=\"http://example2.com/togy2\" id=\"link2\">Togy2</a>\n",
      "<a class=\"sister\" href=\"http://example3.com/togy3\" id=\"link3\">Togy3</a>\n"
     ]
    }
   ],
   "source": [
    "for link in res19:\n",
    "    print(link)"
   ]
  },
  {
   "cell_type": "code",
   "execution_count": 41,
   "id": "ca42a953-6f1f-4d89-be0e-4a9ba3d56e45",
   "metadata": {},
   "outputs": [
    {
     "name": "stdout",
     "output_type": "stream",
     "text": [
      "http://example1.com/togy1\n",
      "http://example2.com/togy2\n",
      "http://example3.com/togy3\n"
     ]
    }
   ],
   "source": [
    "for link in res19:\n",
    "    print(link.get(\"href\"))"
   ]
  },
  {
   "cell_type": "code",
   "execution_count": null,
   "id": "ce9ffa1e-d42c-4d43-af9a-712f6248e464",
   "metadata": {},
   "outputs": [],
   "source": []
  }
 ],
 "metadata": {
  "kernelspec": {
   "display_name": "Python 3 (ipykernel)",
   "language": "python",
   "name": "python3"
  },
  "language_info": {
   "codemirror_mode": {
    "name": "ipython",
    "version": 3
   },
   "file_extension": ".py",
   "mimetype": "text/x-python",
   "name": "python",
   "nbconvert_exporter": "python",
   "pygments_lexer": "ipython3",
   "version": "3.11.5"
  }
 },
 "nbformat": 4,
 "nbformat_minor": 5
}
