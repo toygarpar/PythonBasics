{
 "cells": [
  {
   "cell_type": "markdown",
   "metadata": {},
   "source": [
    "To create a class, we use the class statement. Class names usually start with a capital.\n",
    "\n",
    "Most classes will have a method called __init__ with underscores indicating that it is a special kind of method. \n",
    "It is called a constructor, and it is automatically called when someone creates a new object from your class.\n",
    "The constructor is usually used to set up the class’s variables.\n",
    "\n",
    "\n",
    "The first argument to every method in your class is a special variable called self. \n",
    "Every time your class refers to one of its variables or methods, it must precede them by self. The\n",
    "purpose of self is to distinguish your class’s variables and methods from other variables\n",
    "and functions in the program.\n",
    "\n"
   ]
  },
  {
   "cell_type": "code",
   "execution_count": 1,
   "metadata": {},
   "outputs": [],
   "source": [
    "#dog class\n",
    "\n",
    "\n",
    "class Dog:\n",
    "    species = \"loveable species\"\n",
    "    \n",
    "    def __init__(self, name, age, color, breed):\n",
    "        self.name = name\n",
    "        self.age = age\n",
    "        self.coat_color = color\n",
    "        self.breed = breed\n",
    "        \n",
    "    \n",
    "    # Replace .description() with __str__()    \n",
    "    def __str__(self):\n",
    "        return f\"{self.name} is {self.age} years old and belongs to {self.species} family\"\n",
    "    \n",
    "    def speak(self, sound):\n",
    "        return f\"{self.name} says {sound}\"\n",
    "    \n",
    "class Chihuahua(Dog):\n",
    "    pass\n",
    "\n",
    "class Terrier(Dog):\n",
    "    pass\n",
    "\n",
    "class Jrt(Dog):\n",
    "    pass"
   ]
  },
  {
   "cell_type": "markdown",
   "metadata": {},
   "source": [
    "To create a new object from the class, you call the class name along with any values that you\n",
    "want to send to the constructor."
   ]
  },
  {
   "cell_type": "code",
   "execution_count": 2,
   "metadata": {},
   "outputs": [],
   "source": [
    "taco = Dog(\"Taco\", 17, \"brown\", \"chihuahua\")       \n",
    "buzz = Dog(\"Buzz\", 23, \"brown\",\"chihuahua\")\n",
    "citir = Dog(\"Çıtır\", 16, \"white\", \"terrier\")\n",
    "bocush = Dog(\"Böçüş\", 10, \"black-white\", \"jack russell terrier çakması\")"
   ]
  },
  {
   "cell_type": "markdown",
   "metadata": {},
   "source": [
    "To use the object’s methods, use the dot operator"
   ]
  },
  {
   "cell_type": "code",
   "execution_count": 3,
   "metadata": {},
   "outputs": [
    {
     "data": {
      "text/plain": [
       "'Taco'"
      ]
     },
     "execution_count": 3,
     "metadata": {},
     "output_type": "execute_result"
    }
   ],
   "source": [
    "taco.name"
   ]
  },
  {
   "cell_type": "code",
   "execution_count": 4,
   "metadata": {},
   "outputs": [
    {
     "data": {
      "text/plain": [
       "'chihuahua'"
      ]
     },
     "execution_count": 4,
     "metadata": {},
     "output_type": "execute_result"
    }
   ],
   "source": [
    "taco.breed"
   ]
  },
  {
   "cell_type": "code",
   "execution_count": 5,
   "metadata": {},
   "outputs": [
    {
     "name": "stdout",
     "output_type": "stream",
     "text": [
      "Taco is 17 years old and belongs to loveable species family\n"
     ]
    }
   ],
   "source": [
    "print(taco)"
   ]
  },
  {
   "cell_type": "code",
   "execution_count": 6,
   "metadata": {},
   "outputs": [
    {
     "data": {
      "text/plain": [
       "'Taco says hevhev'"
      ]
     },
     "execution_count": 6,
     "metadata": {},
     "output_type": "execute_result"
    }
   ],
   "source": [
    "taco.speak(\"hevhev\")"
   ]
  },
  {
   "cell_type": "markdown",
   "metadata": {},
   "source": [
    "doggy class\n",
    "\n",
    "Inheritance is where you can create a class that builds off of another class. The new class gets all of the variables and\n",
    "methods of the class it is inheriting from  the base(Parent) class. The Child class can then define additional variables\n",
    "and methods that are not present in the Parent class, and it can also override some of the methods of\n",
    "the Parent class where it basically can rewrite them to suit its own purposes."
   ]
  },
  {
   "cell_type": "code",
   "execution_count": 4,
   "metadata": {},
   "outputs": [],
   "source": [
    "class Doggy:\n",
    "    species = \"loveable species\"\n",
    "    \n",
    "    def __init__(self, name, age, color):  \n",
    "        self.name = name\n",
    "        self.age = age\n",
    "        self.coat_color = color\n",
    "        \n",
    "        \n",
    "    \n",
    "    # Replace .description() with __str__()    \n",
    "    def __str__(self):\n",
    "        return f\"{self.name} is {self.age} years old and belongs to {self.species} family\"\n",
    "    \n",
    "    def __repr__(self):\n",
    "        #return f\"Doggy({self.name!r}, {self.age!r}, {self.coat_color!r})\"\n",
    "        return (f\"{self.__class__.__name__}({self.name!r}, {self.age!r}, {self.coat_color!r})\")\n",
    "    \n",
    "    def speak(self, sound):\n",
    "        return f\"{self.name} barks {sound}\"\n",
    "    \n",
    "class Chihuahua(Doggy):    #when inheriting from a class, you indicate the parent class in parentheses in the class statement.\n",
    "    def speak(self, sound=\"hev\"):\n",
    "        return f\"{self.name} says {sound}\"\n",
    "\n",
    "class Terrier(Doggy):\n",
    "    def speak(self, sound=\"grrrrr\"):\n",
    "        return f\"{self.name} says {sound}\"\n",
    "\n",
    "class Jrt(Doggy):\n",
    "    def speak(self, sound=\"harfv\"):\n",
    "        return super().speak(sound)"
   ]
  },
  {
   "cell_type": "code",
   "execution_count": 5,
   "metadata": {},
   "outputs": [],
   "source": [
    "taco = Chihuahua(\"Taco\", 17 , \"light brown\")\n",
    "bocush = Jrt(\"Böçüsh\", 10, \"black-white\")\n",
    "citir = Terrier(\"Çıtır\", 16, \"white\")\n",
    "buzz = Chihuahua(\"BUzz\", 23,\"brown\")"
   ]
  },
  {
   "cell_type": "code",
   "execution_count": 10,
   "metadata": {},
   "outputs": [
    {
     "data": {
      "text/plain": [
       "'loveable species'"
      ]
     },
     "execution_count": 10,
     "metadata": {},
     "output_type": "execute_result"
    }
   ],
   "source": [
    "taco.species"
   ]
  },
  {
   "cell_type": "code",
   "execution_count": 11,
   "metadata": {},
   "outputs": [
    {
     "data": {
      "text/plain": [
       "'BUzz'"
      ]
     },
     "execution_count": 11,
     "metadata": {},
     "output_type": "execute_result"
    }
   ],
   "source": [
    "buzz.name"
   ]
  },
  {
   "cell_type": "code",
   "execution_count": 13,
   "metadata": {},
   "outputs": [
    {
     "data": {
      "text/plain": [
       "__main__.Chihuahua"
      ]
     },
     "execution_count": 13,
     "metadata": {},
     "output_type": "execute_result"
    }
   ],
   "source": [
    "type(taco)\n"
   ]
  },
  {
   "cell_type": "code",
   "execution_count": 14,
   "metadata": {},
   "outputs": [
    {
     "data": {
      "text/plain": [
       "__main__.Jrt"
      ]
     },
     "execution_count": 14,
     "metadata": {},
     "output_type": "execute_result"
    }
   ],
   "source": [
    "type(bocush)"
   ]
  },
  {
   "cell_type": "code",
   "execution_count": 15,
   "metadata": {},
   "outputs": [
    {
     "data": {
      "text/plain": [
       "__main__.Terrier"
      ]
     },
     "execution_count": 15,
     "metadata": {},
     "output_type": "execute_result"
    }
   ],
   "source": [
    "type(citir)"
   ]
  },
  {
   "cell_type": "code",
   "execution_count": 16,
   "metadata": {},
   "outputs": [
    {
     "data": {
      "text/plain": [
       "True"
      ]
     },
     "execution_count": 16,
     "metadata": {},
     "output_type": "execute_result"
    }
   ],
   "source": [
    "isinstance(taco, Doggy)"
   ]
  },
  {
   "cell_type": "code",
   "execution_count": 17,
   "metadata": {},
   "outputs": [
    {
     "data": {
      "text/plain": [
       "False"
      ]
     },
     "execution_count": 17,
     "metadata": {},
     "output_type": "execute_result"
    }
   ],
   "source": [
    "isinstance(taco, Jrt)"
   ]
  },
  {
   "cell_type": "code",
   "execution_count": 18,
   "metadata": {},
   "outputs": [
    {
     "data": {
      "text/plain": [
       "'Taco says hev'"
      ]
     },
     "execution_count": 18,
     "metadata": {},
     "output_type": "execute_result"
    }
   ],
   "source": [
    "taco.speak()\n"
   ]
  },
  {
   "cell_type": "code",
   "execution_count": 19,
   "metadata": {},
   "outputs": [
    {
     "data": {
      "text/plain": [
       "'Böçüsh barks harfv'"
      ]
     },
     "execution_count": 19,
     "metadata": {},
     "output_type": "execute_result"
    }
   ],
   "source": [
    "bocush.speak()"
   ]
  },
  {
   "cell_type": "code",
   "execution_count": 20,
   "metadata": {},
   "outputs": [
    {
     "data": {
      "text/plain": [
       "\"Chihuahua('Taco', 17, 'light brown')\""
      ]
     },
     "execution_count": 20,
     "metadata": {},
     "output_type": "execute_result"
    }
   ],
   "source": [
    "repr(taco)\n"
   ]
  },
  {
   "cell_type": "code",
   "execution_count": 21,
   "metadata": {},
   "outputs": [
    {
     "data": {
      "text/plain": [
       "'Taco is 17 years old and belongs to loveable species family'"
      ]
     },
     "execution_count": 21,
     "metadata": {},
     "output_type": "execute_result"
    }
   ],
   "source": [
    "str(taco)"
   ]
  },
  {
   "cell_type": "code",
   "execution_count": 18,
   "metadata": {},
   "outputs": [],
   "source": [
    "from string import punctuation\n",
    "class Analiz:\n",
    "    def __init__(self, s):\n",
    "        for c in punctuation:\n",
    "            s = s.replace(c,'')\n",
    "        s = s.lower()\n",
    "        self.words = s.split()\n",
    "\n",
    "    def number_of_words(self):\n",
    "        return len(self.words)\n",
    "    \n",
    "    def startswith(self, s):\n",
    "        return len([w for w in self.words if w[:len(s)]== s])\n",
    "    \n",
    "    def numberLength(self, n: int):\n",
    "        return len([w for w in self.words if len(w) == n])"
   ]
  },
  {
   "cell_type": "code",
   "execution_count": 19,
   "metadata": {},
   "outputs": [
    {
     "name": "stdout",
     "output_type": "stream",
     "text": [
      "['kuranı', 'kerim', 'is', 'a', 'wonderous', 'book', 'of', 'wisdom']\n",
      "Number of words: 8\n",
      "Number of words starting with 'K': 2\n",
      "Number of 2-letter words: 2\n"
     ]
    }
   ],
   "source": [
    "s = \"Kur'an'ı Kerim is a wonderous book of wisdom!\"\n",
    "analiz = Analiz(s)\n",
    "print(analyzer.words)\n",
    "print(\"Number of words:\", analiz.number_of_words())\n",
    "print(\"Number of words starting with 'K':\", analiz.startswith(\"k\"))\n",
    "print(\"Number of 2-letter words:\", analiz.numberLength(2))"
   ]
  },
  {
   "cell_type": "markdown",
   "metadata": {},
   "source": [
    "### custom error class\n",
    "\n",
    "defining your own error types can be of great value\n",
    "\n",
    "make potential error cases stand out clearly, and as a\n",
    "result, your functions and modules will become more maintainable\n",
    "\n",
    "also use custom error types to provide additional debugging\n",
    "information.\n",
    "\n",
    "improve your Python code and make it easier to under-\n",
    "stand, easier to debug, and more maintainable.\n",
    "\n",
    "Custom ex-ception classes make it much easier to \n",
    "understand what’s going on when things go wrong, \n",
    "which will eventually do!\n",
    "\n",
    "Let’s introduce a custom exception type to\n",
    "represent a failed name validation:"
   ]
  },
  {
   "cell_type": "code",
   "execution_count": 123,
   "metadata": {},
   "outputs": [],
   "source": [
    "\n",
    "\n",
    "class NameTooShortError(ValueError):\n",
    "    pass\n",
    "\n",
    "\n",
    "    @staticmethod\n",
    "    def validate(name):\n",
    "        if len(name) < 9:\n",
    "                raise NameTooShortError(name)\n",
    "        \n",
    "\n",
    "        \n"
   ]
  },
  {
   "cell_type": "code",
   "execution_count": 124,
   "metadata": {},
   "outputs": [],
   "source": [
    "v = NameTooShortError()"
   ]
  },
  {
   "cell_type": "code",
   "execution_count": 125,
   "metadata": {},
   "outputs": [
    {
     "ename": "NameTooShortError",
     "evalue": "Toygar",
     "output_type": "error",
     "traceback": [
      "\u001b[1;31m---------------------------------------------------------------------------\u001b[0m",
      "\u001b[1;31mNameTooShortError\u001b[0m                         Traceback (most recent call last)",
      "Cell \u001b[1;32mIn[125], line 1\u001b[0m\n\u001b[1;32m----> 1\u001b[0m v\u001b[38;5;241m.\u001b[39mvalidate(\u001b[38;5;124m\"\u001b[39m\u001b[38;5;124mToygar\u001b[39m\u001b[38;5;124m\"\u001b[39m)\n",
      "Cell \u001b[1;32mIn[123], line 8\u001b[0m, in \u001b[0;36mNameTooShortError.validate\u001b[1;34m(name)\u001b[0m\n\u001b[0;32m      5\u001b[0m \u001b[38;5;129m@staticmethod\u001b[39m\n\u001b[0;32m      6\u001b[0m \u001b[38;5;28;01mdef\u001b[39;00m \u001b[38;5;21mvalidate\u001b[39m(name):\n\u001b[0;32m      7\u001b[0m     \u001b[38;5;28;01mif\u001b[39;00m \u001b[38;5;28mlen\u001b[39m(name) \u001b[38;5;241m<\u001b[39m \u001b[38;5;241m9\u001b[39m:\n\u001b[1;32m----> 8\u001b[0m             \u001b[38;5;28;01mraise\u001b[39;00m NameTooShortError(name)\n",
      "\u001b[1;31mNameTooShortError\u001b[0m: Toygar"
     ]
    }
   ],
   "source": [
    "v.validate(\"Toygar\")"
   ]
  },
  {
   "cell_type": "markdown",
   "metadata": {},
   "source": [
    "\n",
    "Also, see how we’re now passing the name variable to the constructor of our custom \n",
    "exception class when we instantiate it inside validate thru static method validate."
   ]
  },
  {
   "cell_type": "code",
   "execution_count": 23,
   "metadata": {},
   "outputs": [],
   "source": [
    "#easily create class with 2 lines of code\n",
    "\n",
    "class Computer:\n",
    "    pass\n",
    "\n",
    "class PC(Computer):\n",
    "    pass"
   ]
  },
  {
   "cell_type": "markdown",
   "metadata": {},
   "source": [
    "defines a class named Computer containing no attribute and no\n",
    "method, though it automatically inherits all the attributes and methods of the\n",
    "generic object class in the built- in module of Python"
   ]
  },
  {
   "cell_type": "code",
   "execution_count": 24,
   "metadata": {},
   "outputs": [
    {
     "name": "stdout",
     "output_type": "stream",
     "text": [
      "Help on class Computer in module __main__:\n",
      "\n",
      "class Computer(builtins.object)\n",
      " |  Data descriptors defined here:\n",
      " |  \n",
      " |  __dict__\n",
      " |      dictionary for instance variables\n",
      " |  \n",
      " |  __weakref__\n",
      " |      list of weak references to the object\n",
      "\n"
     ]
    }
   ],
   "source": [
    "help(Computer)"
   ]
  },
  {
   "cell_type": "code",
   "execution_count": 25,
   "metadata": {},
   "outputs": [
    {
     "name": "stdout",
     "output_type": "stream",
     "text": [
      "Help on class PC in module __main__:\n",
      "\n",
      "class PC(Computer)\n",
      " |  Method resolution order:\n",
      " |      PC\n",
      " |      Computer\n",
      " |      builtins.object\n",
      " |  \n",
      " |  Data descriptors inherited from Computer:\n",
      " |  \n",
      " |  __dict__\n",
      " |      dictionary for instance variables\n",
      " |  \n",
      " |  __weakref__\n",
      " |      list of weak references to the object\n",
      "\n"
     ]
    }
   ],
   "source": [
    "help(PC)"
   ]
  },
  {
   "cell_type": "code",
   "execution_count": 26,
   "metadata": {},
   "outputs": [
    {
     "data": {
      "text/plain": [
       "'Intel I7'"
      ]
     },
     "execution_count": 26,
     "metadata": {},
     "output_type": "execute_result"
    }
   ],
   "source": [
    "#use the setattr function to add an attribute called CPU to an instance of the Computer class\n",
    "\n",
    "c = Computer()\n",
    "\n",
    "setattr(c, \"CPU\", \"Intel I7\")  #use dunder setattr(o,a,v)\n",
    "\n",
    "c.CPU  #outputs 'Intel I7'\n"
   ]
  },
  {
   "cell_type": "markdown",
   "metadata": {},
   "source": [
    " In our simplest definition of class Computer, we did not\n",
    "define the __init__ method, but it has been automatically inherited from class\n",
    "builtins.object."
   ]
  },
  {
   "cell_type": "code",
   "execution_count": 27,
   "metadata": {},
   "outputs": [
    {
     "name": "stdout",
     "output_type": "stream",
     "text": [
      "{'CPU': 'Intel I7'}\n"
     ]
    }
   ],
   "source": [
    "#use special attribute __dict__ of instance c of class Computer to check the attribute and value of object c\n",
    "print(c.__dict__)\n"
   ]
  },
  {
   "cell_type": "markdown",
   "metadata": {},
   "source": [
    "#pyappwith OOP - class definition with overriding"
   ]
  },
  {
   "cell_type": "code",
   "execution_count": 28,
   "metadata": {},
   "outputs": [],
   "source": [
    "class Form:\n",
    "    \"\"\" design  abstract class for shape\"\"\"\n",
    "    \n",
    "    def perimeter(self):   #method to be overridden\n",
    "        pass\n",
    "    \n",
    "    def zone(self):  #method to be overridden\n",
    "        pass\n",
    "    \n",
    "    \n",
    "class Daire(Form):\n",
    "    def __init__(self, radius):\n",
    "        self.radius = radius\n",
    "        \n",
    "    def perimeter(self):   #◙ this overrides the method defined in Form\n",
    "        return self.radius * 2 * 3.14   \n",
    "    \n",
    "    def zone(self):    #◙ this overrides the method defined in Form\n",
    "        return self.radius ** 2 * 3.14\n",
    "    \n",
    "    \n",
    "class Rect(Form):    \n",
    "    def __init__(self, length, width):\n",
    "        self.length = length\n",
    "        self.width = width\n",
    "        \n",
    "    def perimeter(self):\n",
    "        return (self.width +self.length) * 2\n",
    "    \n",
    "    def zone(self):\n",
    "        return self.width * self.length\n",
    "    \n",
    "    def is_Sq(self):\n",
    "        return self.width == self.length"
   ]
  },
  {
   "cell_type": "code",
   "execution_count": 29,
   "metadata": {},
   "outputs": [],
   "source": [
    "d1 = Daire(25)"
   ]
  },
  {
   "cell_type": "code",
   "execution_count": 31,
   "metadata": {},
   "outputs": [
    {
     "name": "stdout",
     "output_type": "stream",
     "text": [
      "A circle with a radius of 25 has an area of 1962.5,\n",
      "and the perimeter of the circle is 157.0\n"
     ]
    }
   ],
   "source": [
    "print(f\"A circle with a radius of {d1.radius} has an area of {d1.zone()},\")\n",
    "print(f\"and the perimeter of the circle is {d1.perimeter()}\")"
   ]
  },
  {
   "cell_type": "code",
   "execution_count": 32,
   "metadata": {},
   "outputs": [
    {
     "data": {
      "text/plain": [
       "'<bound method Daire.perimeter of <__main__.Daire object at 0x000001DB310BFCD0>>'"
      ]
     },
     "execution_count": 32,
     "metadata": {},
     "output_type": "execute_result"
    }
   ],
   "source": [
    "repr(d1.perimeter)"
   ]
  },
  {
   "cell_type": "code",
   "execution_count": 33,
   "metadata": {},
   "outputs": [
    {
     "data": {
      "text/plain": [
       "'<bound method Daire.perimeter of <__main__.Daire object at 0x000001DB310BFCD0>>'"
      ]
     },
     "execution_count": 33,
     "metadata": {},
     "output_type": "execute_result"
    }
   ],
   "source": [
    "str(d1.perimeter)"
   ]
  },
  {
   "cell_type": "markdown",
   "metadata": {},
   "source": [
    "Instead, attributes are introduced within the definition of the __init__\n",
    "method by assignment statements or by using the built- in function setattr(o,\n",
    "a, v), which are all the attributes of the particular instance created by the\n",
    "constructor of the class. "
   ]
  },
  {
   "cell_type": "code",
   "execution_count": 34,
   "metadata": {},
   "outputs": [],
   "source": [
    "rect1 = Rect(25, 50)\n"
   ]
  },
  {
   "cell_type": "code",
   "execution_count": 35,
   "metadata": {},
   "outputs": [
    {
     "name": "stdout",
     "output_type": "stream",
     "text": [
      "Are of the rectangle  has an area of 1250,\n",
      "and the circumference of the rectangle is 150\n",
      "Is the rectangle a square?: False\n"
     ]
    }
   ],
   "source": [
    "print(f\"Are of the rectangle  has an area of {rect1.zone()},\")\n",
    "print(f\"and the circumference of the rectangle is {rect1.perimeter()}\")\n",
    "print(f\"Is the rectangle a square?: {rect1.is_Sq()}\")"
   ]
  },
  {
   "cell_type": "markdown",
   "metadata": {},
   "source": [
    "#inheritance : subclass and superclass\n",
    "\n",
    "#class myClass(base_1, base_2, base_3):  #↨add all the base classes to the list of inheritances enclosed in a pair of parentheses\n",
    "    #pass\n"
   ]
  },
  {
   "cell_type": "code",
   "execution_count": 36,
   "metadata": {},
   "outputs": [
    {
     "data": {
      "text/plain": [
       "['__class__',\n",
       " '__delattr__',\n",
       " '__dict__',\n",
       " '__dir__',\n",
       " '__doc__',\n",
       " '__eq__',\n",
       " '__format__',\n",
       " '__ge__',\n",
       " '__getattribute__',\n",
       " '__getstate__',\n",
       " '__gt__',\n",
       " '__hash__',\n",
       " '__init__',\n",
       " '__init_subclass__',\n",
       " '__le__',\n",
       " '__lt__',\n",
       " '__module__',\n",
       " '__ne__',\n",
       " '__new__',\n",
       " '__reduce__',\n",
       " '__reduce_ex__',\n",
       " '__repr__',\n",
       " '__setattr__',\n",
       " '__sizeof__',\n",
       " '__str__',\n",
       " '__subclasshook__',\n",
       " '__weakref__']"
      ]
     },
     "execution_count": 36,
     "metadata": {},
     "output_type": "execute_result"
    }
   ],
   "source": [
    "class myClassA:\n",
    "    pass\n",
    "\n",
    "dir(myClassA)"
   ]
  },
  {
   "cell_type": "code",
   "execution_count": 37,
   "metadata": {},
   "outputs": [
    {
     "data": {
      "text/plain": [
       "['__class__',\n",
       " '__delattr__',\n",
       " '__dict__',\n",
       " '__dir__',\n",
       " '__doc__',\n",
       " '__eq__',\n",
       " '__format__',\n",
       " '__ge__',\n",
       " '__getattribute__',\n",
       " '__getstate__',\n",
       " '__gt__',\n",
       " '__hash__',\n",
       " '__init__',\n",
       " '__init_subclass__',\n",
       " '__le__',\n",
       " '__lt__',\n",
       " '__module__',\n",
       " '__ne__',\n",
       " '__new__',\n",
       " '__reduce__',\n",
       " '__reduce_ex__',\n",
       " '__repr__',\n",
       " '__setattr__',\n",
       " '__sizeof__',\n",
       " '__str__',\n",
       " '__subclasshook__',\n",
       " '__weakref__']"
      ]
     },
     "execution_count": 37,
     "metadata": {},
     "output_type": "execute_result"
    }
   ],
   "source": [
    "class myClassB(object):\n",
    "    pass\n",
    "\n",
    "dir(myClassB)"
   ]
  },
  {
   "cell_type": "markdown",
   "metadata": {},
   "source": [
    "### In particular,  need to override the dunder methods __init__ __str__, and __repr__\n",
    "\n",
    "\n",
    "The method __init__ is a dunder method used as constructor called internally by PVM whenever a new instance of a class needs\n",
    "to be created. \n",
    "\n",
    "The method __str__ is a dunder method called internally whenever an object of a class needs to be converted to a string, such as for printout.\n",
    "\n",
    " The method __repr__ is a dunder method called internally when an object needs to be converted to a representation for \n",
    " serialization— a process that converts a Python object into a byte stream that can be stored or transmitted.\n",
    " \n",
    "\n"
   ]
  },
  {
   "cell_type": "markdown",
   "metadata": {},
   "source": [
    "Python doesn’t differentiate attributes between public, private, and\n",
    "protected members. \n",
    "\n",
    "Python treats all attributes of a class as public.\n",
    "It is up to the programmers to decide whether a member should be public,\n",
    "private, or protected."
   ]
  },
  {
   "cell_type": "markdown",
   "metadata": {},
   "source": [
    "Python has a convention for naming protected members, private members, and public members: a name\n",
    "with a leading underscore _ is a protected member of the class in which it is defined, a name with \n",
    "a double underscore __ is a private member of the class in which it is defined, and all other names will be public."
   ]
  },
  {
   "cell_type": "markdown",
   "metadata": {},
   "source": [
    "protected members of a class can only be seen and accessible within the class or a subclass of the class; private members can\n",
    "only be accessed within the class."
   ]
  },
  {
   "cell_type": "code",
   "execution_count": 42,
   "metadata": {},
   "outputs": [],
   "source": [
    "class Student:\n",
    "    def __init__(self, firstname, lastname):  # self refers to the instance in normal method\n",
    "        self._firstname = firstname\n",
    "        self._lastname = lastname\n",
    "        \n"
   ]
  },
  {
   "cell_type": "markdown",
   "metadata": {},
   "source": [
    "protected member"
   ]
  },
  {
   "cell_type": "code",
   "execution_count": 43,
   "metadata": {},
   "outputs": [],
   "source": [
    "s0 = Student(\"Toygar\", \"Par\")"
   ]
  },
  {
   "cell_type": "code",
   "execution_count": 44,
   "metadata": {},
   "outputs": [
    {
     "name": "stdout",
     "output_type": "stream",
     "text": [
      "Toygar Par\n"
     ]
    }
   ],
   "source": [
    "print(s0._firstname, s0._lastname)"
   ]
  },
  {
   "cell_type": "markdown",
   "metadata": {},
   "source": [
    "protected attributes of the class - should only be accessible within the class or its subclasses\n",
    "and should be hidden from the outside."
   ]
  },
  {
   "cell_type": "code",
   "execution_count": 45,
   "metadata": {},
   "outputs": [],
   "source": [
    "class Studante:\n",
    "    def __init__(self, firstname,lastname) :\n",
    "        self.__firstname = firstname\n",
    "        self.__lastname = lastname\n",
    "     \n"
   ]
  },
  {
   "cell_type": "code",
   "execution_count": 46,
   "metadata": {},
   "outputs": [],
   "source": [
    "s1 = Studante(\"Böcüş\", \"Par\")\n",
    "setattr(Studante, \"__firstname\", \"Özdemir\")\n"
   ]
  },
  {
   "cell_type": "code",
   "execution_count": 47,
   "metadata": {},
   "outputs": [
    {
     "ename": "AttributeError",
     "evalue": "'Studante' object has no attribute '__lastname'",
     "output_type": "error",
     "traceback": [
      "\u001b[1;31m---------------------------------------------------------------------------\u001b[0m",
      "\u001b[1;31mAttributeError\u001b[0m                            Traceback (most recent call last)",
      "Cell \u001b[1;32mIn[47], line 1\u001b[0m\n\u001b[1;32m----> 1\u001b[0m \u001b[38;5;28mprint\u001b[39m(s1\u001b[38;5;241m.\u001b[39m__firstname, s1\u001b[38;5;241m.\u001b[39m__lastname)\n",
      "\u001b[1;31mAttributeError\u001b[0m: 'Studante' object has no attribute '__lastname'"
     ]
    }
   ],
   "source": [
    "print(s1.__firstname, s1.__lastname)"
   ]
  },
  {
   "cell_type": "markdown",
   "metadata": {},
   "source": [
    "to access the private members of a class from outside, the built- in\n",
    "functions setattr and getattr can be used to access both private and protected\n",
    "members of a class or its instance"
   ]
  },
  {
   "cell_type": "code",
   "execution_count": 48,
   "metadata": {},
   "outputs": [],
   "source": [
    "setattr(s1, \"__firstname\", \"Özdemir\")\n",
    "setattr(s1,\"__lastname\", \"Par\")\n"
   ]
  },
  {
   "cell_type": "code",
   "execution_count": 49,
   "metadata": {},
   "outputs": [
    {
     "name": "stdout",
     "output_type": "stream",
     "text": [
      "Özdemir Par\n"
     ]
    }
   ],
   "source": [
    "print(getattr(s1,\"__firstname\"), getattr(s1, \"__lastname\"))"
   ]
  },
  {
   "cell_type": "markdown",
   "metadata": {},
   "source": [
    " In Python, a class cannot have more than one __init__ effectively defined. \n",
    "\n",
    " To create an instance of a class differently in Python, the solution is to use the class method since there can be only one constructor, the special __init__ method, in a class definition."
   ]
  },
  {
   "cell_type": "code",
   "execution_count": 57,
   "metadata": {},
   "outputs": [],
   "source": [
    "class Graduate:\n",
    "    def __init__(self, fullname):\n",
    "        firstname, lastname = fullname.split(\" \")\n",
    "        self.firstname =  firstname\n",
    "        self.lastname = lastname\n",
    "\n",
    "    #declare a class method witha decorator\n",
    "    @classmethod\n",
    "    def newGraduate(cls, firstname, lastname):  \n",
    "        return cls(f\"{firstname} {lastname}\")  #return an object  \n",
    "\n",
    "    def __str__(self):   #to convert called object to a string\n",
    "        return f\"{self.firstname} {self.lastname}\"\n",
    "        "
   ]
  },
  {
   "cell_type": "code",
   "execution_count": 58,
   "metadata": {},
   "outputs": [],
   "source": [
    "#call __init__ to contruct a new object\n",
    "g1 = Graduate(\"Toygar Par\")\n",
    "\n",
    "\n"
   ]
  },
  {
   "cell_type": "code",
   "execution_count": 59,
   "metadata": {},
   "outputs": [],
   "source": [
    "#newGraduate is called to create a new object\n",
    "g2 = Graduate.newGraduate(\"Selçuk\", \"Dönmez\")"
   ]
  },
  {
   "cell_type": "code",
   "execution_count": 60,
   "metadata": {},
   "outputs": [
    {
     "name": "stdout",
     "output_type": "stream",
     "text": [
      "Toygar Par\n"
     ]
    }
   ],
   "source": [
    "print(g1)"
   ]
  },
  {
   "cell_type": "code",
   "execution_count": 61,
   "metadata": {},
   "outputs": [
    {
     "name": "stdout",
     "output_type": "stream",
     "text": [
      "Selçuk Dönmez\n"
     ]
    }
   ],
   "source": [
    "print(g2)"
   ]
  },
  {
   "cell_type": "markdown",
   "metadata": {},
   "source": [
    "class definition and class statement"
   ]
  },
  {
   "cell_type": "code",
   "execution_count": 158,
   "metadata": {},
   "outputs": [],
   "source": [
    "import random\n",
    "\n",
    "class Zar:\n",
    "    \"\"\"Simulate a 6-sided die\"\"\"  #docstring for help function\n",
    "\n",
    "    def roll(self):  # The self variable is a namespace for all of the attributes and methods of this object.\n",
    "        self.value = random.randint(1,6)\n",
    "        return self.value\n",
    "    \n",
    "    def getValue(self):  #return the last value rolled\n",
    "        return self.value\n",
    "    \n",
    "    \"\"\"\n",
    "    def __str__(self):   #to convert called object to a string\n",
    "        return f\"{self.value}\n",
    "        \"\"\""
   ]
  },
  {
   "cell_type": "code",
   "execution_count": 159,
   "metadata": {},
   "outputs": [],
   "source": [
    "#create two instances of the Die class\n",
    "at1 = Zar()\n",
    "at2 = Zar()"
   ]
  },
  {
   "cell_type": "code",
   "execution_count": 160,
   "metadata": {},
   "outputs": [
    {
     "data": {
      "text/plain": [
       "(3, 6)"
      ]
     },
     "execution_count": 160,
     "metadata": {},
     "output_type": "execute_result"
    }
   ],
   "source": [
    "at1.roll(), at2.roll()"
   ]
  },
  {
   "cell_type": "code",
   "execution_count": 161,
   "metadata": {},
   "outputs": [
    {
     "data": {
      "text/plain": [
       "(3, 6)"
      ]
     },
     "execution_count": 161,
     "metadata": {},
     "output_type": "execute_result"
    }
   ],
   "source": [
    "at1.getValue(), at2.getValue()"
   ]
  },
  {
   "cell_type": "code",
   "execution_count": 162,
   "metadata": {},
   "outputs": [
    {
     "data": {
      "text/plain": [
       "(<__main__.Zar at 0x22579316850>, <__main__.Zar at 0x225794ed9d0>)"
      ]
     },
     "execution_count": 162,
     "metadata": {},
     "output_type": "execute_result"
    }
   ],
   "source": [
    "at1, at2"
   ]
  },
  {
   "cell_type": "code",
   "execution_count": 163,
   "metadata": {},
   "outputs": [
    {
     "data": {
      "text/plain": [
       "'Simulate a 6-sided die'"
      ]
     },
     "execution_count": 163,
     "metadata": {},
     "output_type": "execute_result"
    }
   ],
   "source": [
    "at1.__doc__"
   ]
  },
  {
   "cell_type": "code",
   "execution_count": 164,
   "metadata": {},
   "outputs": [
    {
     "data": {
      "text/plain": [
       "'Simulate a 6-sided die'"
      ]
     },
     "execution_count": 164,
     "metadata": {},
     "output_type": "execute_result"
    }
   ],
   "source": [
    "at2.__doc__"
   ]
  },
  {
   "cell_type": "markdown",
   "metadata": {},
   "source": [
    "an example of a company description that suitable for evaluating stock performance."
   ]
  },
  {
   "cell_type": "code",
   "execution_count": 152,
   "metadata": {},
   "outputs": [],
   "source": [
    "class Firm:\n",
    "    \"\"\"company description for evaluating stock performance\"\"\"\n",
    "    def __init__(self, name, symbol, stockPrice):\n",
    "        self.name = name\n",
    "        self.symbol = symbol\n",
    "        self.price = stockPrice\n",
    "\n",
    "    def valueOfStock(self, shares):\n",
    "        return self.price * shares\n",
    "    \n",
    "    def __str__(self):\n",
    "        return \"%s %s %s %d\" % (self.name, self.symbol, self.price, self.valueOfStock(100))\n",
    "    \n",
    "    def __repr__(self):\n",
    "        return \"Firm(%r %r %r)\" % (self.name, self.symbol, self.price)\n",
    "    \n",
    "class FirmC(Firm):\n",
    "    def __init__(self, name, symbol, stockPrice):\n",
    "        self.name = name\n",
    "        self.symbol = symbol\n",
    "        self.price = stockPrice\n",
    "        \n",
    "    def __str__(self):\n",
    "        return \"%(name)s %(symbol)s %(price)s\" % self.__dict__    \n",
    "    \n",
    "    def __repr__(self):\n",
    "        return \"FirmC(%(name)r , %(symbol)r, %(price)r)\" % self.__dict__"
   ]
  },
  {
   "cell_type": "code",
   "execution_count": 136,
   "metadata": {},
   "outputs": [],
   "source": [
    "f = Firm(\"Tüpraş\", \"TUPRS\", 50.75)  #will provide 3 values to __init__"
   ]
  },
  {
   "cell_type": "code",
   "execution_count": 137,
   "metadata": {},
   "outputs": [
    {
     "name": "stdout",
     "output_type": "stream",
     "text": [
      "Tüpraş TUPRS 50.75 5075\n"
     ]
    }
   ],
   "source": [
    "print(f)"
   ]
  },
  {
   "cell_type": "code",
   "execution_count": 138,
   "metadata": {},
   "outputs": [
    {
     "data": {
      "text/plain": [
       "\"Firm('Tüpraş' 'TUPRS' 50.75)\""
      ]
     },
     "execution_count": 138,
     "metadata": {},
     "output_type": "execute_result"
    }
   ],
   "source": [
    "repr(f)"
   ]
  },
  {
   "cell_type": "code",
   "execution_count": 139,
   "metadata": {},
   "outputs": [
    {
     "data": {
      "text/plain": [
       "'company description for evaluating stock performance'"
      ]
     },
     "execution_count": 139,
     "metadata": {},
     "output_type": "execute_result"
    }
   ],
   "source": [
    "f.__doc__"
   ]
  },
  {
   "cell_type": "markdown",
   "metadata": {},
   "source": [
    "``__doc__ shows the docstring from the class definition``"
   ]
  },
  {
   "cell_type": "code",
   "execution_count": 140,
   "metadata": {},
   "outputs": [
    {
     "data": {
      "text/plain": [
       "{'name': 'Tüpraş', 'symbol': 'TUPRS', 'price': 50.75}"
      ]
     },
     "execution_count": 140,
     "metadata": {},
     "output_type": "execute_result"
    }
   ],
   "source": [
    "f.__dict__"
   ]
  },
  {
   "cell_type": "markdown",
   "metadata": {},
   "source": [
    "\n",
    "What we did above is to show you the attribute details of a class are kept in a special dict object\n",
    "\n",
    ">``self.attribute = value almost means self.__dict__[\"attribute\"] = value``"
   ]
  },
  {
   "cell_type": "code",
   "execution_count": 141,
   "metadata": {},
   "outputs": [
    {
     "data": {
      "text/plain": [
       "__main__.Firm"
      ]
     },
     "execution_count": 141,
     "metadata": {},
     "output_type": "execute_result"
    }
   ],
   "source": [
    "f.__class__"
   ]
  },
  {
   "cell_type": "markdown",
   "metadata": {},
   "source": [
    "``__class__ shows you the class to which the object belongs.``"
   ]
  },
  {
   "cell_type": "code",
   "execution_count": 148,
   "metadata": {},
   "outputs": [],
   "source": [
    "g = FirmC(\"Ereğli Demir Çelik\", \"EREGL\", 75.75)"
   ]
  },
  {
   "cell_type": "code",
   "execution_count": 150,
   "metadata": {},
   "outputs": [
    {
     "data": {
      "text/plain": [
       "'Ereğli Demir Çelik EREGL 75.75'"
      ]
     },
     "execution_count": 150,
     "metadata": {},
     "output_type": "execute_result"
    }
   ],
   "source": [
    "FirmC.__str__(g)\n"
   ]
  },
  {
   "cell_type": "code",
   "execution_count": 151,
   "metadata": {},
   "outputs": [
    {
     "data": {
      "text/plain": [
       "{'name': 'Ereğli Demir Çelik', 'symbol': 'EREGL', 'price': 75.75}"
      ]
     },
     "execution_count": 151,
     "metadata": {},
     "output_type": "execute_result"
    }
   ],
   "source": [
    "g.__dict__"
   ]
  },
  {
   "cell_type": "code",
   "execution_count": 153,
   "metadata": {},
   "outputs": [
    {
     "data": {
      "text/plain": [
       "\"FirmC('Ereğli Demir Çelik' , 'EREGL', 75.75)\""
      ]
     },
     "execution_count": 153,
     "metadata": {},
     "output_type": "execute_result"
    }
   ],
   "source": [
    "FirmC.__repr__(g)"
   ]
  },
  {
   "cell_type": "code",
   "execution_count": 165,
   "metadata": {},
   "outputs": [],
   "source": [
    "import random\n",
    "\n",
    "class Zar:\n",
    "    \"\"\"Simulate a 6-sided generic die\"\"\"  #docstring for help function\n",
    "\n",
    "    def __init__(self):\n",
    "        self.sides = 6\n",
    "        self.roll()\n",
    "        pass\n",
    "\n",
    "    def roll(self):  # Updates the die with a random roll\n",
    "        self.value = 1 + random.randrange(self.sides)\n",
    "        return self.value\n",
    "    \"\"\"\n",
    "    Since random.randrange(self.sides) generates a number between 0 and 5, adding 1 shifts this range to be between 1 and 6.\n",
    "    \"\"\"\n",
    "    \n",
    "    def getValue(self):  #return the last value rolled\n",
    "        return self.value\n",
    "    \n",
    "    \n",
    "    def __str__(self):   #to convert called object to a string\n",
    "        return f\"{self.value}\""
   ]
  },
  {
   "cell_type": "code",
   "execution_count": 157,
   "metadata": {},
   "outputs": [
    {
     "name": "stdout",
     "output_type": "stream",
     "text": [
      "1 5\n",
      "6 3\n",
      "6 1\n",
      "5 2\n",
      "6 5\n",
      "1 6\n",
      "2 4\n",
      "4 3\n",
      "6 2\n",
      "4 2\n",
      "1 3\n",
      "3 6\n"
     ]
    }
   ],
   "source": [
    "def main():\n",
    "    z1 , z2 = Zar(), Zar()\n",
    "    for n in range(12):\n",
    "        print(z1.roll(), z2.roll())\n",
    "\n",
    "main()"
   ]
  },
  {
   "cell_type": "markdown",
   "metadata": {},
   "source": [
    "Static Methods\n",
    "\n",
    "Defining a static method within a class is a way to add utility functions to the class so that it can be used without instantiating an object."
   ]
  },
  {
   "cell_type": "code",
   "execution_count": 166,
   "metadata": {},
   "outputs": [],
   "source": [
    "class Convert:\n",
    "\n",
    "    @staticmethod\n",
    "    def kgtolb(weight):\n",
    "        return weight * 2.20462\n",
    "    \n",
    "    @staticmethod\n",
    "    def lbtokg(weight):\n",
    "        return weight / 2.20462\n",
    "    \n",
    "    @staticmethod\n",
    "    def ftom(length):\n",
    "        return length * 3.28084\n",
    "    \n",
    "    @staticmethod\n",
    "    def mtof(length):\n",
    "        return length / 3.28084\n",
    "    \n",
    "\n",
    "    @staticmethod\n",
    "    def CtoF(degree):\n",
    "        return (degree * (9 / 5)) +32\n",
    "    \n",
    "    @staticmethod\n",
    "    def FtoC(degree):\n",
    "        return (degree - 32 ) * (5 / 9)\n",
    "    \n",
    "    @staticmethod\n",
    "    def AcretoDonum(area):\n",
    "        return area * 4.04686\n",
    "    \n",
    "    @staticmethod\n",
    "    def DonumtoAcre(area):\n",
    "        return area / 4.04686\n"
   ]
  },
  {
   "cell_type": "code",
   "execution_count": 167,
   "metadata": {},
   "outputs": [
    {
     "name": "stdout",
     "output_type": "stream",
     "text": [
      "193.345174\n"
     ]
    }
   ],
   "source": [
    "print(Convert.kgtolb(87.7))"
   ]
  },
  {
   "cell_type": "code",
   "execution_count": 168,
   "metadata": {},
   "outputs": [
    {
     "name": "stdout",
     "output_type": "stream",
     "text": [
      "89.6\n"
     ]
    }
   ],
   "source": [
    "print(Convert.CtoF(32))"
   ]
  },
  {
   "cell_type": "markdown",
   "metadata": {},
   "source": [
    "Python does allow the explicit declaration of attributes within a class definition. \n",
    "These attributes are called class attributes. Explicit declaration of an attribute \n",
    "within a class definition means that the attribute is declared outside of the __init__ method. In the \n",
    "example below, student_id is declared as a class attribute."
   ]
  },
  {
   "cell_type": "code",
   "execution_count": 171,
   "metadata": {},
   "outputs": [],
   "source": [
    "class Graduate:\n",
    "\n",
    "    student_id = 7777 #class attribute\n",
    "\n",
    "    def __init__(self, fullname):\n",
    "        firstname, lastname = fullname.split(\" \")\n",
    "        self.firstname =  firstname\n",
    "        self.lastname = lastname\n",
    "        self.__class__.student_id += 1  #use self.__class__.student_id to refer to class attribute\n",
    "\n",
    "    #declare a class method witha decorator\n",
    "    @classmethod\n",
    "    def newGraduate(cls, firstname, lastname):  \n",
    "        return cls(f\"{firstname} {lastname}\")  #return an object  \n",
    "\n",
    "    def __str__(self):   #to convert called object to a string\n",
    "        return f\"{self.firstname} {self.lastname}  {self.student_id}\"\n",
    "        "
   ]
  },
  {
   "cell_type": "code",
   "execution_count": 172,
   "metadata": {},
   "outputs": [
    {
     "name": "stdout",
     "output_type": "stream",
     "text": [
      "Toygar Par  7778\n",
      "***********\n",
      " class attr student_id = 7778   \n",
      "**********\n",
      "Selçuk Dönmez  7779\n"
     ]
    }
   ],
   "source": [
    "g0 = Graduate(\"Toygar Par\")\n",
    "print(g0)\n",
    "print(\"***********\")\n",
    "print(f\" class attr student_id = {g0.__class__.student_id}   \")\n",
    "print(\"**********\")\n",
    "g1 = Graduate(\"Selçuk Dönmez\")\n",
    "print(g1)\n",
    "      "
   ]
  },
  {
   "cell_type": "markdown",
   "metadata": {},
   "source": [
    "__class , __str__ , __repr__ , __len__ methods"
   ]
  },
  {
   "cell_type": "code",
   "execution_count": 50,
   "metadata": {},
   "outputs": [],
   "source": [
    "class Mezun:\n",
    "\n",
    "    student_id = 7777 #class attribute\n",
    "\n",
    "    def __init__(self, fullname):\n",
    "        firstname, lastname = fullname.split(\" \")\n",
    "        self.firstname =  firstname\n",
    "        self.lastname = lastname\n",
    "        #self.student_id += 1  #use self.__class__.student_id to refer to class attribute\n",
    "        self.__class__.student_id += 1\n",
    "\n",
    "    #declare a class method with a decorator\n",
    "    @classmethod\n",
    "    def yenimezun(cls, firstname, lastname):  \n",
    "        return cls(f\"{firstname} {lastname}\")  #return an object  \n",
    "\n",
    "    def __str__(self):   #to convert called object to a string\n",
    "        return f\"{self.firstname} {self.lastname}  {self.student_id}\"\n",
    "    \n",
    "    def __len__(self):\n",
    "        return len(self.firstname) + len(self.lastname) +len(str(self.student_id))\n",
    "    \n",
    "    def __repr__(self):\n",
    "        return \"{'firstname'}:\" + self.firstname + \",{'lastname'}:\" + self.lastname + \",{'student_id'}:\" + str(self.student_id) + \"}\"\n",
    "        "
   ]
  },
  {
   "cell_type": "code",
   "execution_count": 53,
   "metadata": {},
   "outputs": [
    {
     "name": "stdout",
     "output_type": "stream",
     "text": [
      "Toygar Par  7781\n",
      "***********\n",
      " class attr student_id = 7781   \n",
      "**********\n",
      "Selçuk Dönmez  7782\n",
      "++++++++++\n",
      "Selçuk Dönmez  7782 7782\n",
      "13\n",
      "{'firstname'}:Selçuk,{'lastname'}:Dönmez,{'student_id'}:7782}\n"
     ]
    }
   ],
   "source": [
    "g0 = Mezun(\"Toygar Par\")\n",
    "print(g0)\n",
    "print(\"***********\")\n",
    "print(f\" class attr student_id = {g0.__class__.student_id}   \")\n",
    "print(\"**********\")\n",
    "g1 = Mezun.yenimezun(\"Selçuk\", \"Dönmez\")\n",
    "print(g1)\n",
    "\n",
    "print(\"++++++++++\")\n",
    "print(g1, g1.student_id)\n",
    "print(len(g0))\n",
    "print(str(repr(g1)))\n",
    "      "
   ]
  },
  {
   "cell_type": "markdown",
   "metadata": {},
   "source": [
    "Self.student_id on the right side of the assignment statement is resolved to be the class attribute according\n",
    "to the rule. Although student_id is resolved from the class attr student_id, self.student_id on the left side of the assignment is just an attr of the object being instantiated so we have a problem of having no effect on the class attribute. These are two different variables( obj attr = class attr + 1). We do not get an unique incrementation in student id for each instance of the object.\n",
    "\n",
    "self.__class__.student = self.student_id makes variables refer to the class attr.\n",
    "\n",
    "\n",
    "In Python, class attributes are shared among all the objects of the class and can also be accessed directly from the class, without an instance of the class."
   ]
  },
  {
   "cell_type": "markdown",
   "metadata": {},
   "source": [
    "### x, y koordinatları\n",
    "class Koor, initializes each point object with the x and y coordinate values of the point. It also provides a few member functions to manipulate the point."
   ]
  },
  {
   "cell_type": "code",
   "execution_count": 176,
   "metadata": {},
   "outputs": [],
   "source": [
    "class Koor:\n",
    "    \"\"\" 2  boyutlu geometrik nokta\"\"\"\n",
    "    def __init__(self, x, y):\n",
    "        self.x ,self.y = x , y\n",
    "\n",
    "    def kaydir(self, x0, y0):\n",
    "        \"\"\"Offset the point by xo parallel to the x-axis\n",
    "        and yo parallel to the y-axis.\"\"\"\n",
    "        self.x += x0\n",
    "        self.y += y0\n",
    "\n",
    "    def tekrar_kaydir(self, val):\n",
    "        \"\"\"Offset the point by val parallel to both axes.\"\"\"\n",
    "        self.kaydir(val, val)\n",
    "\n",
    "    def __str__(self) -> str:\n",
    "        return \"(%g, %g)\" % (self.x, self.y)\n",
    "\n",
    "    \n",
    "\n"
   ]
  },
  {
   "cell_type": "code",
   "execution_count": 182,
   "metadata": {},
   "outputs": [],
   "source": [
    "def main():\n",
    "    obj1_kose = Koor( 12, 24 )\n",
    "    obj2_kose = Koor( 8, 16 )\n",
    "    obj1_kose.kaydir( -2, -4 )\n",
    "    print (obj1_kose)\n",
    "    print (obj2_kose)\n"
   ]
  },
  {
   "cell_type": "code",
   "execution_count": 183,
   "metadata": {},
   "outputs": [
    {
     "name": "stdout",
     "output_type": "stream",
     "text": [
      "(10, 20)\n",
      "(8, 16)\n"
     ]
    }
   ],
   "source": [
    "main()"
   ]
  },
  {
   "cell_type": "markdown",
   "metadata": {},
   "source": [
    "Object-oriented programming helps us by encapsulating data and processing into a tidy class definition.\n",
    "\n",
    "Defining Collaboration - Defining a collaboration means that we are creating a class which depends on\n",
    "one or more other classes"
   ]
  },
  {
   "cell_type": "code",
   "execution_count": 184,
   "metadata": {},
   "outputs": [],
   "source": [
    "import random\n",
    "\n",
    "class Zar:\n",
    "    \"\"\"Simulate a 6-sided die\"\"\"  #docstring for help function\n",
    "\n",
    "    def roll(self):  # The self variable is a namespace for all of the attributes and methods of this object.\n",
    "        self.value = random.randint(1,6)\n",
    "        return self.value\n",
    "    \n",
    "    def getValue(self):  #return the last value rolled\n",
    "        return self.value\n",
    "    \n",
    "    \"\"\"\n",
    "    def __str__(self):   #to convert called object to a string\n",
    "        return f\"{self.value}\n",
    "        \"\"\""
   ]
  },
  {
   "cell_type": "code",
   "execution_count": 21,
   "metadata": {},
   "outputs": [
    {
     "data": {
      "text/plain": [
       "'cat cod  caturday'"
      ]
     },
     "execution_count": 21,
     "metadata": {},
     "output_type": "execute_result"
    }
   ],
   "source": [
    "from string import punctuation\n",
    "s = \"cat cod !!!! caturday\"\n",
    "for c in punctuation:\n",
    "    s = s.replace(c, \"\")\n",
    "s"
   ]
  },
  {
   "cell_type": "markdown",
   "metadata": {},
   "source": [
    "child class can add some new variables, \n",
    "also can call the parent class’s constructor.\n",
    "\n",
    "if the child class just wants to add on to one of the parent’s methods,\n",
    "the child’s method calls the parent’s  method\n"
   ]
  },
  {
   "cell_type": "code",
   "execution_count": 61,
   "metadata": {},
   "outputs": [],
   "source": [
    "class Parent:\n",
    "    def __init__(self, a):\n",
    "        self.a = a\n",
    "    def print_var(self):\n",
    "        print(f\"The value of {__class__} class's variables are:\")\n",
    "        print(self.a)\n",
    "class Child(Parent):\n",
    "    def __init__(self, a, b):\n",
    "        Parent.__init__(self, a)\n",
    "        self.b = b\n",
    "    def print_var(self):\n",
    "        Parent.print_var(self)\n",
    "        print(f\"The value of {__class__} 's variables are: {self.b}\")"
   ]
  },
  {
   "cell_type": "code",
   "execution_count": 62,
   "metadata": {},
   "outputs": [
    {
     "name": "stdout",
     "output_type": "stream",
     "text": [
      "The value of <class '__main__.Parent'> class's variables are:\n",
      "Özdemir\n"
     ]
    }
   ],
   "source": [
    "x = Parent(\"Özdemir\")\n",
    "x.print_var()"
   ]
  },
  {
   "cell_type": "code",
   "execution_count": 63,
   "metadata": {},
   "outputs": [
    {
     "name": "stdout",
     "output_type": "stream",
     "text": [
      "<__main__.Child object at 0x00000155DAC53290>\n"
     ]
    }
   ],
   "source": [
    "y = Child(\"Özdemir\",\"Toygar\")\n",
    "print(y)"
   ]
  },
  {
   "cell_type": "code",
   "execution_count": 64,
   "metadata": {},
   "outputs": [
    {
     "data": {
      "text/plain": [
       "{'a': 'Özdemir', 'b': 'Toygar'}"
      ]
     },
     "execution_count": 64,
     "metadata": {},
     "output_type": "execute_result"
    }
   ],
   "source": [
    "y.__dict__"
   ]
  },
  {
   "cell_type": "code",
   "execution_count": 65,
   "metadata": {},
   "outputs": [
    {
     "name": "stdout",
     "output_type": "stream",
     "text": [
      "The value of <class '__main__.Parent'> class's variables are:\n",
      "Özdemir\n",
      "The value of <class '__main__.Child'> 's variables are: Toygar\n"
     ]
    }
   ],
   "source": [
    "y.print_var()"
   ]
  },
  {
   "cell_type": "markdown",
   "metadata": {},
   "source": [
    "Using super() is a more modern and preferred way to call methods from a parent class, especially in cases involving inheritance. It provides a way to refer to the parent class without explicitly naming it, which makes the code more maintainable and less error-prone, especially in more complex inheritance hierarchies.\n",
    "\n",
    "Here is the code modified to use super():"
   ]
  },
  {
   "cell_type": "code",
   "execution_count": 72,
   "metadata": {},
   "outputs": [],
   "source": [
    "class Parent:\n",
    "    def __init__(self, a):\n",
    "        self.a = a\n",
    "    \n",
    "    def print_var(self):\n",
    "        print(f\"The value of {self.__class__.__name__} class's variables are:\")\n",
    "        print(self.a)\n",
    "\n",
    "class Child(Parent):\n",
    "    def __init__(self, a, b):\n",
    "        super().__init__(a)  # Using super() to call the parent class's __init__ method, we do not call self in this case\n",
    "        self.b = b\n",
    "    \n",
    "    def print_var(self):\n",
    "        super().print_var()  # Using super() to call the parent class's print_var method, we do not call self when using super()\n",
    "        print(f\"The value of {self.__class__.__name__}'s variables are: {self.b}\")\n",
    "\n"
   ]
  },
  {
   "cell_type": "code",
   "execution_count": 73,
   "metadata": {},
   "outputs": [
    {
     "name": "stdout",
     "output_type": "stream",
     "text": [
      "The value of Parent class's variables are:\n",
      "10\n",
      "The value of Child class's variables are:\n",
      "20\n",
      "The value of Child's variables are: 30\n"
     ]
    }
   ],
   "source": [
    "# Example usage\n",
    "parent = Parent(10)\n",
    "parent.print_var()\n",
    "\n",
    "child = Child(20, 30)\n",
    "child.print_var()"
   ]
  },
  {
   "cell_type": "code",
   "execution_count": 74,
   "metadata": {},
   "outputs": [
    {
     "name": "stdout",
     "output_type": "stream",
     "text": [
      "The value of Child class's variables are:\n",
      "Özdemir\n",
      "The value of Child's variables are: Toygar\n"
     ]
    }
   ],
   "source": [
    "child2 = Child(\"Özdemir\", \"Toygar\")\n",
    "child2.print_var()"
   ]
  },
  {
   "cell_type": "code",
   "execution_count": 2,
   "metadata": {},
   "outputs": [
    {
     "data": {
      "text/plain": [
       "[1, 5, 3, [...]]"
      ]
     },
     "execution_count": 2,
     "metadata": {},
     "output_type": "execute_result"
    }
   ],
   "source": [
    "#shallow copy circular reference\n",
    "list1 = [1, 5, 3]\n",
    "list2 = list1\n",
    "list1.append(list2)\n",
    "list1"
   ]
  },
  {
   "cell_type": "markdown",
   "metadata": {},
   "source": [
    "### __call__ method\n",
    "\n",
    "Use dunder method __call__ for a cleaner code to make an instance of an object of a class, callable. It turns class Housing instance object ``home`` into a callable function."
   ]
  },
  {
   "cell_type": "code",
   "execution_count": 24,
   "metadata": {},
   "outputs": [],
   "source": [
    "from typing import Any\n",
    "import pandas as pd\n",
    "\n",
    "class Housing:\n",
    "    df = pd.read_csv(\"Housing.csv\")\n",
    "\n",
    "    def __init__(self):\n",
    "        self.price = df[\"price\"]\n",
    "        self.area = df[\"area\"]\n",
    "\n",
    "    def __call__(self, check = \"average\"):\n",
    "        if check == 'price':\n",
    "            return self.price\n",
    "        \n",
    "        elif check == \"area\":\n",
    "            return  self.area\n",
    "        \n",
    "        else:\n",
    "            return self.price / self.area\n",
    "\n",
    "        \n",
    "\n"
   ]
  },
  {
   "cell_type": "code",
   "execution_count": 25,
   "metadata": {},
   "outputs": [
    {
     "data": {
      "text/html": [
       "<div>\n",
       "<style scoped>\n",
       "    .dataframe tbody tr th:only-of-type {\n",
       "        vertical-align: middle;\n",
       "    }\n",
       "\n",
       "    .dataframe tbody tr th {\n",
       "        vertical-align: top;\n",
       "    }\n",
       "\n",
       "    .dataframe thead th {\n",
       "        text-align: right;\n",
       "    }\n",
       "</style>\n",
       "<table border=\"1\" class=\"dataframe\">\n",
       "  <thead>\n",
       "    <tr style=\"text-align: right;\">\n",
       "      <th></th>\n",
       "      <th>price</th>\n",
       "      <th>area</th>\n",
       "      <th>bedrooms</th>\n",
       "      <th>bathrooms</th>\n",
       "      <th>stories</th>\n",
       "      <th>mainroad</th>\n",
       "      <th>guestroom</th>\n",
       "      <th>basement</th>\n",
       "      <th>hotwaterheating</th>\n",
       "      <th>airconditioning</th>\n",
       "      <th>parking</th>\n",
       "      <th>prefarea</th>\n",
       "      <th>furnishingstatus</th>\n",
       "    </tr>\n",
       "  </thead>\n",
       "  <tbody>\n",
       "    <tr>\n",
       "      <th>0</th>\n",
       "      <td>13300000</td>\n",
       "      <td>7420</td>\n",
       "      <td>4</td>\n",
       "      <td>2</td>\n",
       "      <td>3</td>\n",
       "      <td>yes</td>\n",
       "      <td>no</td>\n",
       "      <td>no</td>\n",
       "      <td>no</td>\n",
       "      <td>yes</td>\n",
       "      <td>2</td>\n",
       "      <td>yes</td>\n",
       "      <td>furnished</td>\n",
       "    </tr>\n",
       "    <tr>\n",
       "      <th>1</th>\n",
       "      <td>12250000</td>\n",
       "      <td>8960</td>\n",
       "      <td>4</td>\n",
       "      <td>4</td>\n",
       "      <td>4</td>\n",
       "      <td>yes</td>\n",
       "      <td>no</td>\n",
       "      <td>no</td>\n",
       "      <td>no</td>\n",
       "      <td>yes</td>\n",
       "      <td>3</td>\n",
       "      <td>no</td>\n",
       "      <td>furnished</td>\n",
       "    </tr>\n",
       "    <tr>\n",
       "      <th>2</th>\n",
       "      <td>12250000</td>\n",
       "      <td>9960</td>\n",
       "      <td>3</td>\n",
       "      <td>2</td>\n",
       "      <td>2</td>\n",
       "      <td>yes</td>\n",
       "      <td>no</td>\n",
       "      <td>yes</td>\n",
       "      <td>no</td>\n",
       "      <td>no</td>\n",
       "      <td>2</td>\n",
       "      <td>yes</td>\n",
       "      <td>semi-furnished</td>\n",
       "    </tr>\n",
       "    <tr>\n",
       "      <th>3</th>\n",
       "      <td>12215000</td>\n",
       "      <td>7500</td>\n",
       "      <td>4</td>\n",
       "      <td>2</td>\n",
       "      <td>2</td>\n",
       "      <td>yes</td>\n",
       "      <td>no</td>\n",
       "      <td>yes</td>\n",
       "      <td>no</td>\n",
       "      <td>yes</td>\n",
       "      <td>3</td>\n",
       "      <td>yes</td>\n",
       "      <td>furnished</td>\n",
       "    </tr>\n",
       "    <tr>\n",
       "      <th>4</th>\n",
       "      <td>11410000</td>\n",
       "      <td>7420</td>\n",
       "      <td>4</td>\n",
       "      <td>1</td>\n",
       "      <td>2</td>\n",
       "      <td>yes</td>\n",
       "      <td>yes</td>\n",
       "      <td>yes</td>\n",
       "      <td>no</td>\n",
       "      <td>yes</td>\n",
       "      <td>2</td>\n",
       "      <td>no</td>\n",
       "      <td>furnished</td>\n",
       "    </tr>\n",
       "  </tbody>\n",
       "</table>\n",
       "</div>"
      ],
      "text/plain": [
       "      price  area  bedrooms  bathrooms  stories mainroad guestroom basement  \\\n",
       "0  13300000  7420         4          2        3      yes        no       no   \n",
       "1  12250000  8960         4          4        4      yes        no       no   \n",
       "2  12250000  9960         3          2        2      yes        no      yes   \n",
       "3  12215000  7500         4          2        2      yes        no      yes   \n",
       "4  11410000  7420         4          1        2      yes       yes      yes   \n",
       "\n",
       "  hotwaterheating airconditioning  parking prefarea furnishingstatus  \n",
       "0              no             yes        2      yes        furnished  \n",
       "1              no             yes        3       no        furnished  \n",
       "2              no              no        2      yes   semi-furnished  \n",
       "3              no             yes        3      yes        furnished  \n",
       "4              no             yes        2       no        furnished  "
      ]
     },
     "execution_count": 25,
     "metadata": {},
     "output_type": "execute_result"
    }
   ],
   "source": [
    "df.head()"
   ]
  },
  {
   "cell_type": "code",
   "execution_count": 26,
   "metadata": {},
   "outputs": [
    {
     "data": {
      "text/html": [
       "<div>\n",
       "<style scoped>\n",
       "    .dataframe tbody tr th:only-of-type {\n",
       "        vertical-align: middle;\n",
       "    }\n",
       "\n",
       "    .dataframe tbody tr th {\n",
       "        vertical-align: top;\n",
       "    }\n",
       "\n",
       "    .dataframe thead th {\n",
       "        text-align: right;\n",
       "    }\n",
       "</style>\n",
       "<table border=\"1\" class=\"dataframe\">\n",
       "  <thead>\n",
       "    <tr style=\"text-align: right;\">\n",
       "      <th></th>\n",
       "      <th>price</th>\n",
       "      <th>area</th>\n",
       "      <th>bedrooms</th>\n",
       "      <th>bathrooms</th>\n",
       "      <th>stories</th>\n",
       "      <th>mainroad</th>\n",
       "      <th>guestroom</th>\n",
       "      <th>basement</th>\n",
       "      <th>hotwaterheating</th>\n",
       "      <th>airconditioning</th>\n",
       "      <th>parking</th>\n",
       "      <th>prefarea</th>\n",
       "      <th>furnishingstatus</th>\n",
       "    </tr>\n",
       "  </thead>\n",
       "  <tbody>\n",
       "    <tr>\n",
       "      <th>540</th>\n",
       "      <td>1820000</td>\n",
       "      <td>3000</td>\n",
       "      <td>2</td>\n",
       "      <td>1</td>\n",
       "      <td>1</td>\n",
       "      <td>yes</td>\n",
       "      <td>no</td>\n",
       "      <td>yes</td>\n",
       "      <td>no</td>\n",
       "      <td>no</td>\n",
       "      <td>2</td>\n",
       "      <td>no</td>\n",
       "      <td>unfurnished</td>\n",
       "    </tr>\n",
       "    <tr>\n",
       "      <th>541</th>\n",
       "      <td>1767150</td>\n",
       "      <td>2400</td>\n",
       "      <td>3</td>\n",
       "      <td>1</td>\n",
       "      <td>1</td>\n",
       "      <td>no</td>\n",
       "      <td>no</td>\n",
       "      <td>no</td>\n",
       "      <td>no</td>\n",
       "      <td>no</td>\n",
       "      <td>0</td>\n",
       "      <td>no</td>\n",
       "      <td>semi-furnished</td>\n",
       "    </tr>\n",
       "    <tr>\n",
       "      <th>542</th>\n",
       "      <td>1750000</td>\n",
       "      <td>3620</td>\n",
       "      <td>2</td>\n",
       "      <td>1</td>\n",
       "      <td>1</td>\n",
       "      <td>yes</td>\n",
       "      <td>no</td>\n",
       "      <td>no</td>\n",
       "      <td>no</td>\n",
       "      <td>no</td>\n",
       "      <td>0</td>\n",
       "      <td>no</td>\n",
       "      <td>unfurnished</td>\n",
       "    </tr>\n",
       "    <tr>\n",
       "      <th>543</th>\n",
       "      <td>1750000</td>\n",
       "      <td>2910</td>\n",
       "      <td>3</td>\n",
       "      <td>1</td>\n",
       "      <td>1</td>\n",
       "      <td>no</td>\n",
       "      <td>no</td>\n",
       "      <td>no</td>\n",
       "      <td>no</td>\n",
       "      <td>no</td>\n",
       "      <td>0</td>\n",
       "      <td>no</td>\n",
       "      <td>furnished</td>\n",
       "    </tr>\n",
       "    <tr>\n",
       "      <th>544</th>\n",
       "      <td>1750000</td>\n",
       "      <td>3850</td>\n",
       "      <td>3</td>\n",
       "      <td>1</td>\n",
       "      <td>2</td>\n",
       "      <td>yes</td>\n",
       "      <td>no</td>\n",
       "      <td>no</td>\n",
       "      <td>no</td>\n",
       "      <td>no</td>\n",
       "      <td>0</td>\n",
       "      <td>no</td>\n",
       "      <td>unfurnished</td>\n",
       "    </tr>\n",
       "  </tbody>\n",
       "</table>\n",
       "</div>"
      ],
      "text/plain": [
       "       price  area  bedrooms  bathrooms  stories mainroad guestroom basement  \\\n",
       "540  1820000  3000         2          1        1      yes        no      yes   \n",
       "541  1767150  2400         3          1        1       no        no       no   \n",
       "542  1750000  3620         2          1        1      yes        no       no   \n",
       "543  1750000  2910         3          1        1       no        no       no   \n",
       "544  1750000  3850         3          1        2      yes        no       no   \n",
       "\n",
       "    hotwaterheating airconditioning  parking prefarea furnishingstatus  \n",
       "540              no              no        2       no      unfurnished  \n",
       "541              no              no        0       no   semi-furnished  \n",
       "542              no              no        0       no      unfurnished  \n",
       "543              no              no        0       no        furnished  \n",
       "544              no              no        0       no      unfurnished  "
      ]
     },
     "execution_count": 26,
     "metadata": {},
     "output_type": "execute_result"
    }
   ],
   "source": [
    "df.tail()"
   ]
  },
  {
   "cell_type": "code",
   "execution_count": 27,
   "metadata": {},
   "outputs": [
    {
     "name": "stdout",
     "output_type": "stream",
     "text": [
      "0      1792.452830\n",
      "1      1367.187500\n",
      "2      1229.919679\n",
      "3      1628.666667\n",
      "4      1537.735849\n",
      "          ...     \n",
      "540     606.666667\n",
      "541     736.312500\n",
      "542     483.425414\n",
      "543     601.374570\n",
      "544     454.545455\n",
      "Length: 545, dtype: float64\n",
      "0      13300000\n",
      "1      12250000\n",
      "2      12250000\n",
      "3      12215000\n",
      "4      11410000\n",
      "         ...   \n",
      "540     1820000\n",
      "541     1767150\n",
      "542     1750000\n",
      "543     1750000\n",
      "544     1750000\n",
      "Name: price, Length: 545, dtype: int64\n",
      "0      7420\n",
      "1      8960\n",
      "2      9960\n",
      "3      7500\n",
      "4      7420\n",
      "       ... \n",
      "540    3000\n",
      "541    2400\n",
      "542    3620\n",
      "543    2910\n",
      "544    3850\n",
      "Name: area, Length: 545, dtype: int64\n"
     ]
    }
   ],
   "source": [
    "home = Housing()\n",
    "print(home())\n",
    "print(home(check=\"price\"))\n",
    "print(home(check=\"area\"))"
   ]
  },
  {
   "cell_type": "code",
   "execution_count": 28,
   "metadata": {},
   "outputs": [
    {
     "data": {
      "text/plain": [
       "{'price': 0      13300000\n",
       " 1      12250000\n",
       " 2      12250000\n",
       " 3      12215000\n",
       " 4      11410000\n",
       "          ...   \n",
       " 540     1820000\n",
       " 541     1767150\n",
       " 542     1750000\n",
       " 543     1750000\n",
       " 544     1750000\n",
       " Name: price, Length: 545, dtype: int64,\n",
       " 'area': 0      7420\n",
       " 1      8960\n",
       " 2      9960\n",
       " 3      7500\n",
       " 4      7420\n",
       "        ... \n",
       " 540    3000\n",
       " 541    2400\n",
       " 542    3620\n",
       " 543    2910\n",
       " 544    3850\n",
       " Name: area, Length: 545, dtype: int64}"
      ]
     },
     "execution_count": 28,
     "metadata": {},
     "output_type": "execute_result"
    }
   ],
   "source": [
    "home.__dict__"
   ]
  },
  {
   "cell_type": "markdown",
   "metadata": {},
   "source": [
    "### __new__ class\n",
    "\n",
    "Before the creation of a new instance of a class, we can overrid __new__ method to do something prerequisite before we initialize def __init__ . \n",
    "\n",
    "The __new__ method is defined to control the addition of a new destination to the vacation list.\n",
    "\n",
    "It checks whether the city has already been added to the plan and will not add the city if it is already on the list."
   ]
  },
  {
   "cell_type": "code",
   "execution_count": 36,
   "metadata": {},
   "outputs": [],
   "source": [
    "class TatilPlani():\n",
    "    _destinations = {}   #protected class attribute\n",
    "    _counter = 0\n",
    "\n",
    "    def __new__(cls, newDestination ):\n",
    "        if newDestination in TatilPlani._destinations.values():\n",
    "            print(f\"{newDestination} is already in the Destinations/Tatil Planı\")\n",
    "\n",
    "        else:\n",
    "            return super(TatilPlani, cls).__new__(cls)\n",
    "\n",
    "    def __init__(self, newDestination):\n",
    "        TatilPlani._destinations[TatilPlani._counter] = newDestination\n",
    "        print(f\"{TatilPlani._destinations[TatilPlani._counter]} is added to the Destinations/Plan!\")\n",
    "        TatilPlani._counter += 1\n",
    "        \n",
    "\n",
    "    @staticmethod\n",
    "    def printPlan():  #print entire plan\n",
    "        for place in TatilPlani._destinations:\n",
    "            print(f\"Destination {place + 1} : {TatilPlani._destinations[place]}\")"
   ]
  },
  {
   "cell_type": "code",
   "execution_count": 37,
   "metadata": {},
   "outputs": [
    {
     "name": "stdout",
     "output_type": "stream",
     "text": [
      "İzmir is added to the Destinations/Plan!\n",
      "Didim is added to the Destinations/Plan!\n",
      "Bodrum is added to the Destinations/Plan!\n",
      "Didim is already in the Destinations/Tatil Planı\n",
      "Destination 1 : İzmir\n",
      "Destination 2 : Didim\n",
      "Destination 3 : Bodrum\n"
     ]
    }
   ],
   "source": [
    "TatilPlani(\"İzmir\")\n",
    "TatilPlani(\"Didim\")\n",
    "TatilPlani(\"Bodrum\")\n",
    "TatilPlani(\"Didim\")\n",
    "TatilPlani.printPlan()"
   ]
  },
  {
   "cell_type": "markdown",
   "metadata": {},
   "source": [
    "__GETITEM__ AND __SETITEM__  methods are used to turn a class into an indexable container object.\n",
    "\n",
    "__getitem__ is called to implement the evaluation of self[key] \n",
    "\n",
    "__setitem__ is called to implement the assignment to self[key]"
   ]
  },
  {
   "cell_type": "code",
   "execution_count": 8,
   "metadata": {},
   "outputs": [],
   "source": [
    "class PiggyBank:\n",
    "\n",
    "    def __init__(self, name): # initializes the class with one parameter, name.\n",
    "\n",
    "        self.rec = { \"name\" : name, \"balance\": 100, \"deposit\" :  [100] }  \n",
    "\n",
    "    def __getitem__(self, key):  # allows access to the dictionary items using the bracket notation ([])\n",
    "        return self.rec[key]  # retrieves the value associated with the key from the record dictionary.\n",
    "    \n",
    "    def __setitem__(self, key, depamount): #allows setting values in the dictionary using the bracket notation ([])\n",
    "        if key == \"balance\" and depamount != None and depamount >=100:\n",
    "            self.rec[key] +=  depamount  #adds to the cuurent balance once condition is checked True\n",
    "\n",
    "        elif key == \"deposit\" and depamount != None:\n",
    "            self.rec[key].append(depamount)  #appends depamount to the deposit list\n",
    "\n",
    "    def getBalance(self):\n",
    "        return self.__getitem__(\"balance\")\n",
    "    \n",
    "    def updateBalance(self, new_deposit):\n",
    "        self.__setitem__(\"balance\", new_deposit)\n",
    "        self.__setitem__(\"deposit\", new_deposit)\n",
    "\n",
    "    def getDeposits(self):  #retrieves the deposit history.\n",
    "        return self.__getitem__(\"deposit\")\n",
    "    \n",
    "    def numDeposits(self):  # to get the count of deposits.\n",
    "        return len(self.rec[\"deposit\"])\n",
    "        \n"
   ]
  },
  {
   "cell_type": "code",
   "execution_count": 9,
   "metadata": {},
   "outputs": [],
   "source": [
    "par = PiggyBank(\"Toygar\")"
   ]
  },
  {
   "cell_type": "code",
   "execution_count": 10,
   "metadata": {},
   "outputs": [
    {
     "name": "stdout",
     "output_type": "stream",
     "text": [
      "The balance is 100\n"
     ]
    }
   ],
   "source": [
    "print(f\"The balance is {par.getBalance()}\")"
   ]
  },
  {
   "cell_type": "code",
   "execution_count": 11,
   "metadata": {},
   "outputs": [],
   "source": [
    "par.updateBalance(200)"
   ]
  },
  {
   "cell_type": "code",
   "execution_count": 12,
   "metadata": {},
   "outputs": [
    {
     "name": "stdout",
     "output_type": "stream",
     "text": [
      "The new balance is 300 \n",
      "The number of deposits are 2\n",
      "The deposit history: [100, 200]\n"
     ]
    }
   ],
   "source": [
    "print(f\"The new balance is {par.getBalance()} \")\n",
    "print(f\"The number of deposits are {par.numDeposits()}\")\n",
    "print(f\"The deposit history: {par.getDeposits()}\")"
   ]
  },
  {
   "cell_type": "code",
   "execution_count": 13,
   "metadata": {},
   "outputs": [],
   "source": [
    "par.updateBalance(700)"
   ]
  },
  {
   "cell_type": "code",
   "execution_count": 14,
   "metadata": {},
   "outputs": [
    {
     "name": "stdout",
     "output_type": "stream",
     "text": [
      "The new balance is 1000 \n",
      "The number of deposits are 3\n",
      "The deposit history: [100, 200, 700]\n"
     ]
    }
   ],
   "source": [
    "print(f\"The new balance is {par.getBalance()} \")\n",
    "print(f\"The number of deposits are {par.numDeposits()}\")\n",
    "print(f\"The deposit history: {par.getDeposits()}\")"
   ]
  },
  {
   "cell_type": "code",
   "execution_count": 16,
   "metadata": {},
   "outputs": [
    {
     "data": {
      "text/plain": [
       "{'rec': {'name': 'Toygar', 'balance': 1000, 'deposit': [100, 200, 700]}}"
      ]
     },
     "execution_count": 16,
     "metadata": {},
     "output_type": "execute_result"
    }
   ],
   "source": [
    "par.__dict__"
   ]
  },
  {
   "cell_type": "code",
   "execution_count": null,
   "metadata": {},
   "outputs": [],
   "source": []
  },
  {
   "cell_type": "markdown",
   "metadata": {},
   "source": [
    "Öğrenci Not Defteri\n",
    "\n",
    "define a class to store the names in a dictionary instead of using\n",
    "a predefined attribute for each student and keep a list of grades by that student dict object keyword\n",
    "\n",
    "\n",
    "\n",
    "class ile dict oluşturup keywordlara list oluşturmak"
   ]
  },
  {
   "cell_type": "code",
   "execution_count": null,
   "metadata": {},
   "outputs": [],
   "source": [
    "class Transcript:\n",
    "    def __init__(self) -> None:\n",
    "        self.grades = {}\n",
    "\n",
    "    def addStudent(self, name):\n",
    "        self.grades[name] = []\n",
    "\n",
    "    def addGrade(self, name, score):\n",
    "        self.grades[name].append(score)\n",
    "\n",
    "    def avgGrade(self,name):\n",
    "        grades = self.grades[name]\n",
    "        return sum(grades) / len(grades)\n",
    "\n",
    "\n"
   ]
  },
  {
   "cell_type": "code",
   "execution_count": null,
   "metadata": {},
   "outputs": [],
   "source": [
    "trans = Transcript()\n"
   ]
  },
  {
   "cell_type": "code",
   "execution_count": null,
   "metadata": {},
   "outputs": [],
   "source": [
    "trans.addStudent( \"Toygar Par\"  )"
   ]
  },
  {
   "cell_type": "code",
   "execution_count": null,
   "metadata": {},
   "outputs": [],
   "source": [
    "trans.addGrade(\"Toygar Par\", 85)\n",
    "trans.addGrade(\"Toygar Par\", 90)\n",
    "trans.addGrade(\"Toygar Par\", 88)"
   ]
  },
  {
   "cell_type": "code",
   "execution_count": null,
   "metadata": {},
   "outputs": [
    {
     "data": {
      "text/plain": [
       "{'grades': {'Toygar Par': [85, 90, 88]}}"
      ]
     },
     "metadata": {},
     "output_type": "display_data"
    }
   ],
   "source": [
    "trans.__dict__"
   ]
  },
  {
   "cell_type": "code",
   "execution_count": null,
   "metadata": {},
   "outputs": [
    {
     "data": {
      "text/plain": [
       "87.66666666666667"
      ]
     },
     "metadata": {},
     "output_type": "display_data"
    }
   ],
   "source": [
    "trans.avgGrade(\"Toygar Par\")"
   ]
  },
  {
   "cell_type": "markdown",
   "metadata": {},
   "source": [
    "the defaultdict class from the collections built-in module\n",
    "simplifies this common use case by automatically storing a default\n",
    "value when a key doesn’t exist."
   ]
  },
  {
   "cell_type": "code",
   "execution_count": null,
   "metadata": {},
   "outputs": [],
   "source": [
    "from collections import defaultdict\n",
    "class TranscriptBySubject:\n",
    "    def __init__(self) -> None:\n",
    "        self.grades = {}\n",
    "\n",
    "    def addStudent(self, name):\n",
    "        self.grades[name] = defaultdict(list)\n",
    "\n",
    "    def addGrade(self, name, subject,  grade):\n",
    "        by_subject = self.grades[name]\n",
    "        grades_list = by_subject[subject]\n",
    "        grades_list.append(grade)\n",
    "\n",
    "    def avgGrade(self,name):\n",
    "        by_subject = self.grades[name]\n",
    "\n",
    "        total, count = 0 , 0\n",
    "        for grades in by_subject.values():\n",
    "            total += sum(grades)\n",
    "            count += len(grades)\n",
    "        return total /count"
   ]
  },
  {
   "cell_type": "code",
   "execution_count": null,
   "metadata": {},
   "outputs": [],
   "source": [
    "trans1 = TranscriptBySubject()"
   ]
  },
  {
   "cell_type": "code",
   "execution_count": null,
   "metadata": {},
   "outputs": [],
   "source": [
    "trans1.addStudent(\"Böçüş Par\")"
   ]
  },
  {
   "cell_type": "code",
   "execution_count": null,
   "metadata": {},
   "outputs": [],
   "source": [
    "trans1.addGrade(\"Böçüş Par\", \"Matematik\",  90)\n",
    "trans1.addGrade(\"Böçüş Par\", \"Matematik\", 95)\n",
    "trans1.addGrade(\"Böçüş Par\", \"Fizik\", 87)\n",
    "trans1.addGrade(\"Böçüş Par\", \"Fizik\", 85)"
   ]
  },
  {
   "cell_type": "code",
   "execution_count": null,
   "metadata": {},
   "outputs": [
    {
     "data": {
      "text/plain": [
       "{'grades': {'Böçüş Par': defaultdict(list,\n",
       "              {'Matematik': [90, 95], 'Fizik': [87, 85]})}}"
      ]
     },
     "metadata": {},
     "output_type": "display_data"
    }
   ],
   "source": [
    "trans1.__dict__"
   ]
  },
  {
   "cell_type": "code",
   "execution_count": null,
   "metadata": {},
   "outputs": [
    {
     "data": {
      "text/plain": [
       "89.25"
      ]
     },
     "metadata": {},
     "output_type": "display_data"
    }
   ],
   "source": [
    "trans1.avgGrade(\"Böçüş Par\")"
   ]
  },
  {
   "cell_type": "markdown",
   "metadata": {},
   "source": [
    "Ağırlıklı Ortalama"
   ]
  },
  {
   "cell_type": "code",
   "execution_count": null,
   "metadata": {},
   "outputs": [],
   "source": [
    "from collections import defaultdict\n",
    "class WeightedTranscriptBySubject:\n",
    "    def __init__(self) -> None:\n",
    "        self.grades = {}\n",
    "\n",
    "    def addStudent(self, name):\n",
    "        self.grades[name] = defaultdict(list)\n",
    "\n",
    "    def addGrade(self, name, subject,  grade, weight):\n",
    "        by_subject = self.grades[name]\n",
    "        grades_list = by_subject[subject]\n",
    "        grades_list.append((grade, weight))\n",
    "\n",
    "    def avgGrade(self,name):\n",
    "        by_subject = self.grades[name]\n",
    "\n",
    "        grade_sum, grade_count = 0 , 0\n",
    "        for subject, grades in by_subject.items():\n",
    "            subject_avg, total_weight = 0, 0\n",
    "\n",
    "            for grade, weight in grades:\n",
    "                subject_avg += grade * weight\n",
    "                total_weight += weight\n",
    "\n",
    "            grade_sum += subject_avg / total_weight\n",
    "            grade_count += 1\n",
    "\n",
    "\n",
    "            \n",
    "        return grade_sum /grade_count"
   ]
  },
  {
   "cell_type": "code",
   "execution_count": null,
   "metadata": {},
   "outputs": [],
   "source": [
    "wtrans = WeightedTranscriptBySubject()"
   ]
  },
  {
   "cell_type": "code",
   "execution_count": null,
   "metadata": {},
   "outputs": [],
   "source": [
    "wtrans.addStudent(\"Böçüş Par\")"
   ]
  },
  {
   "cell_type": "code",
   "execution_count": null,
   "metadata": {},
   "outputs": [],
   "source": [
    "wtrans.addGrade(\"Böçüş Par\", \"Matematik\",  90, 0.60)\n",
    "wtrans.addGrade(\"Böçüş Par\", \"Matematik\", 95, 0.40)\n",
    "wtrans.addGrade(\"Böçüş Par\", \"Fizik\", 87, 0.70)\n",
    "wtrans.addGrade(\"Böçüş Par\", \"Fizik\", 85, 0.30)"
   ]
  },
  {
   "cell_type": "code",
   "execution_count": null,
   "metadata": {},
   "outputs": [
    {
     "data": {
      "text/plain": [
       "{'grades': {'Böçüş Par': defaultdict(list,\n",
       "              {'Matematik': [(90, 0.6), (95, 0.4)],\n",
       "               'Fizik': [(87, 0.7), (85, 0.3)]})}}"
      ]
     },
     "metadata": {},
     "output_type": "display_data"
    }
   ],
   "source": [
    "wtrans.__dict__"
   ]
  },
  {
   "cell_type": "code",
   "execution_count": null,
   "metadata": {},
   "outputs": [
    {
     "data": {
      "text/plain": [
       "89.2"
      ]
     },
     "metadata": {},
     "output_type": "display_data"
    }
   ],
   "source": [
    "wtrans.avgGrade(\"Böçüş Par\")"
   ]
  }
 ],
 "metadata": {
  "kernelspec": {
   "display_name": "Python 3 (ipykernel)",
   "language": "python",
   "name": "python3"
  },
  "language_info": {
   "codemirror_mode": {
    "name": "ipython",
    "version": 3
   },
   "file_extension": ".py",
   "mimetype": "text/x-python",
   "name": "python",
   "nbconvert_exporter": "python",
   "pygments_lexer": "ipython3",
   "version": "3.11.7"
  }
 },
 "nbformat": 4,
 "nbformat_minor": 4
}
